{
 "cells": [
  {
   "cell_type": "markdown",
   "metadata": {},
   "source": [
    "# Syntactic Analysis - Assignment\n",
    "\n",
    "\n",
    "### Submitted By:\n",
    "Mudassar Dildar Majgaonkar"
   ]
  },
  {
   "cell_type": "markdown",
   "metadata": {},
   "source": [
    "# Problem Statement\n",
    "\n",
    "The vanilla Viterbi algorithm has low accuracy because it cannot handle the unknown words (words that are not present in the tagged test set). For such unknown words the emission probability is zero and thats why the algorithm choses the first tag available and assigns it to the word. This is very crude method to aasign tags to unknown words.\n",
    "\n",
    "In this assignment we will modify the Viterbi Algorithm to handle the unknown words so that the algorithm doesnt assign the tag randomly and uses some features of words like morphology, frequency or probability of occurrence to assign the correct tag to the unknown words encountered thereby increasing the accuracy of POS tagging.\n"
   ]
  },
  {
   "cell_type": "markdown",
   "metadata": {},
   "source": [
    "# Data Understanding and Preparation"
   ]
  },
  {
   "cell_type": "markdown",
   "metadata": {},
   "source": [
    "Before we dive into the actual algorithm implementation lets analyze and understand the nltk dataset we will be using for training and validating the algorithm.\n",
    "\n",
    "For this assignment,we will use the Treebank dataset of NLTK with the 'universal' tagset. The Universal tagset of NLTK comprises only 12 coarse tag classes as follows: Verb, Noun, Pronouns, Adjectives, Adverbs, Adpositions, Conjunctions, Determiners, Cardinal Numbers, Particles, Other/ Foreign words, Punctuations.\n",
    "\n",
    "Using only 12 coarse classes (compared to the 46 fine classes such as NNP, VBD etc.) will make the Viterbi algorithm faster as well.\n",
    "\n",
    "**We will use only these 12 classes for tagging the unknown words later on.**"
   ]
  },
  {
   "cell_type": "code",
   "execution_count": 1,
   "metadata": {},
   "outputs": [],
   "source": [
    "#Basic Jupyter notebook and code settings\n",
    "from IPython.core.interactiveshell import InteractiveShell\n",
    "InteractiveShell.ast_node_interactivity = \"all\"\n",
    "\n",
    "# Supress Warnings\n",
    "import warnings\n",
    "warnings.filterwarnings('ignore')"
   ]
  },
  {
   "cell_type": "code",
   "execution_count": 2,
   "metadata": {},
   "outputs": [],
   "source": [
    "#Import important libraries\n",
    "import nltk, re, pprint\n",
    "import numpy as np\n",
    "import pandas as pd\n",
    "import requests\n",
    "import matplotlib.pyplot as plt\n",
    "import seaborn as sns\n",
    "import pprint, time\n",
    "import random\n",
    "from collections import Counter\n",
    "from sklearn.model_selection import train_test_split\n",
    "from nltk.tokenize import word_tokenize"
   ]
  },
  {
   "cell_type": "code",
   "execution_count": 3,
   "metadata": {},
   "outputs": [
    {
     "name": "stdout",
     "output_type": "stream",
     "text": [
      "[[('Pierre', 'NOUN'), ('Vinken', 'NOUN'), (',', '.'), ('61', 'NUM'), ('years', 'NOUN'), ('old', 'ADJ'), (',', '.'), ('will', 'VERB'), ('join', 'VERB'), ('the', 'DET'), ('board', 'NOUN'), ('as', 'ADP'), ('a', 'DET'), ('nonexecutive', 'ADJ'), ('director', 'NOUN'), ('Nov.', 'NOUN'), ('29', 'NUM'), ('.', '.')]]\n"
     ]
    }
   ],
   "source": [
    "#Since its mentioned in the problem statement, we will be using only universal tags for this assignement.\n",
    "# Read the Treebank tagged sentences with only universal tags\n",
    "nltk_data = list(nltk.corpus.treebank.tagged_sents(tagset='universal'))\n",
    "\n",
    "#Check the sample data\n",
    "print(nltk_data[:1])"
   ]
  },
  {
   "cell_type": "markdown",
   "metadata": {},
   "source": [
    "As mentioned we will split the data in 95:5 ratio for training and validation"
   ]
  },
  {
   "cell_type": "code",
   "execution_count": 4,
   "metadata": {},
   "outputs": [
    {
     "name": "stdout",
     "output_type": "stream",
     "text": [
      "Length of train set:  3718\n",
      "Length of validation set:  196\n"
     ]
    }
   ],
   "source": [
    "# Splitting into train and test\n",
    "random.seed(1234)\n",
    "train_set, validation_set = train_test_split(nltk_data,test_size=0.05,random_state=1)\n",
    "\n",
    "print(\"Length of train set: \",len(train_set))\n",
    "print(\"Length of validation set: \",len(validation_set))"
   ]
  },
  {
   "cell_type": "markdown",
   "metadata": {},
   "source": [
    "Now lets read the test sentences and store them in test_set which we will use later for testing\n"
   ]
  },
  {
   "cell_type": "code",
   "execution_count": 5,
   "metadata": {},
   "outputs": [
    {
     "data": {
      "text/plain": [
       "['android', 'is', 'a', 'mobile', 'operating']"
      ]
     },
     "execution_count": 5,
     "metadata": {},
     "output_type": "execute_result"
    }
   ],
   "source": [
    "#Read and store the test data\n",
    "fhandle = open('Test_sentences.txt')\n",
    "raw_data = fhandle.read()\n",
    "\n",
    "#Tokenize the read file\n",
    "test_set = word_tokenize(raw_data)\n",
    "\n",
    "#Store all the words in lower case format so that if easy to compare later\n",
    "test_set = [w.lower() for w in test_set]\n",
    "\n",
    "#Check the sample test set\n",
    "test_set[:5]"
   ]
  },
  {
   "cell_type": "markdown",
   "metadata": {},
   "source": [
    "Now lets analyze the train and validation set a little in more detail and pre-process it."
   ]
  },
  {
   "cell_type": "code",
   "execution_count": 6,
   "metadata": {},
   "outputs": [
    {
     "name": "stdout",
     "output_type": "stream",
     "text": [
      "Number of words in train dataset:  95668\n"
     ]
    }
   ],
   "source": [
    "# Get the list of tagged words from the train dataset\n",
    "train_tagged_words = [tup for sent in train_set for tup in sent]\n",
    "print(\"Number of words in train dataset: \",len(train_tagged_words))"
   ]
  },
  {
   "cell_type": "code",
   "execution_count": 7,
   "metadata": {},
   "outputs": [
    {
     "name": "stdout",
     "output_type": "stream",
     "text": [
      "Sample words: ['he', 'has', 'promised', 'stiffer', 'fines']\n",
      "\n",
      "There are 11104 vocabulary words in train_set.\n",
      "\n",
      "There are 12 tags in train_set and they are {'NUM', 'VERB', 'DET', 'ADV', '.', 'ADJ', 'ADP', 'CONJ', 'PRT', 'PRON', 'NOUN', 'X'}. \n",
      "\n"
     ]
    }
   ],
   "source": [
    "#Get the vocaubulary words and tags from the train set\n",
    "\n",
    "#Vocabulary Words \n",
    "#Since the entries are in form of tuple(word,tag) we seperate the words and tags\n",
    "\n",
    "#Preprocess and store the words in lowercase to eliminate duplicacy in set\n",
    "words = [pair[0].lower() for pair in train_tagged_words]\n",
    "\n",
    "#Check sample words\n",
    "print(\"Sample words: {}\\n\".format(words[:5]))\n",
    "\n",
    "#Vocabulary words\n",
    "vocab_words = set(words)\n",
    "\n",
    "#Check the length of actual unique vocabulary words\n",
    "print(\"There are {} vocabulary words in train_set.\\n\".format(len(vocab_words)))\n",
    "\n",
    "# Now check the tags in the train dataset\n",
    "tags = set([pair[1] for pair in train_tagged_words])\n",
    "print(\"There are {} tags in train_set and they are {}. \\n\".format(len(tags),tags))"
   ]
  },
  {
   "cell_type": "markdown",
   "metadata": {},
   "source": [
    "As mentioned in the Problem Statement we could see the list of Universal tagset above."
   ]
  },
  {
   "cell_type": "markdown",
   "metadata": {},
   "source": [
    "Similarly lets verify the validation set details"
   ]
  },
  {
   "cell_type": "code",
   "execution_count": 8,
   "metadata": {},
   "outputs": [
    {
     "name": "stdout",
     "output_type": "stream",
     "text": [
      "Number of words in validation dataset:  5008\n",
      "Sample words: ['while', 'the', 'new', 'proposal', 'might']\n",
      "\n",
      "There are 1780 vocabulary words in validation_set.\n",
      "\n",
      "There are 12 tags in validation_set and they are {'NUM', 'VERB', 'DET', 'ADV', '.', 'ADJ', 'ADP', 'CONJ', 'PRT', 'PRON', 'NOUN', 'X'}. \n",
      "\n"
     ]
    }
   ],
   "source": [
    "# Get the list of tagged words from the train dataset\n",
    "validation_tagged_words = [tup for sent in validation_set for tup in sent]\n",
    "print(\"Number of words in validation dataset: \",len(validation_tagged_words))\n",
    "\n",
    "#Get the vocaubulary words and tags from the train set\n",
    "\n",
    "#Vocabulary Words \n",
    "#Since the entries are in form of tuple(word,tag) we seperate the words and tags\n",
    "\n",
    "#Preprocess and store the words in lowercase to eliminate duplicacy in set\n",
    "val_words = [pair[0].lower() for pair in validation_tagged_words]\n",
    "\n",
    "#Check sample words\n",
    "print(\"Sample words: {}\\n\".format(val_words[:5]))\n",
    "\n",
    "#Vocabulary words\n",
    "vocab_val_words = set(val_words)\n",
    "\n",
    "#Check the length of actual unique vocabulary words\n",
    "print(\"There are {} vocabulary words in validation_set.\\n\".format(len(vocab_val_words)))\n",
    "\n",
    "# Now check the tags in the train dataset\n",
    "val_tags = set([pair[1] for pair in validation_tagged_words])\n",
    "print(\"There are {} tags in validation_set and they are {}. \\n\".format(len(val_tags),val_tags))"
   ]
  },
  {
   "cell_type": "markdown",
   "metadata": {},
   "source": [
    "Now lets check the frequency of the tags in the original dataset."
   ]
  },
  {
   "cell_type": "code",
   "execution_count": 9,
   "metadata": {},
   "outputs": [
    {
     "name": "stdout",
     "output_type": "stream",
     "text": [
      "[('CONJ', 2265), ('PRON', 2737), ('ADV', 3171), ('PRT', 3219), ('NUM', 3546), ('ADJ', 6397), ('X', 6613), ('DET', 8725), ('ADP', 9857), ('.', 11715), ('VERB', 13564), ('NOUN', 28867)]\n"
     ]
    }
   ],
   "source": [
    "#Check the tags in overall dataset\n",
    "tagged_words_all = [tup for sent in nltk_data for tup in sent]\n",
    "tags_all = [pair[1] for pair in tagged_words_all]\n",
    "tag_counts_all = Counter(tags_all)\n",
    "\n",
    "#Print the counts in sorted order\n",
    "print(sorted(tag_counts_all.items(), key = lambda kv:(kv[1], kv[0]))) "
   ]
  },
  {
   "cell_type": "code",
   "execution_count": 10,
   "metadata": {},
   "outputs": [
    {
     "data": {
      "image/png": "[encoded data removed]",
      "text/plain": [
       "<Figure size 864x864 with 1 Axes>"
      ]
     },
     "metadata": {},
     "output_type": "display_data"
    }
   ],
   "source": [
    "#Lets plot the count of tags and check it?\n",
    "plt.figure(figsize=(12,12))\n",
    "plt.pie(list(tag_counts_all.values()), labels=list(tag_counts_all.keys()), autopct='%1.1f%%');"
   ]
  },
  {
   "cell_type": "markdown",
   "metadata": {},
   "source": [
    "As seen from the above plot it seems like NOUN's comprise of large amount in dataset approx 29%; followed by VERB's 14% and the '.' sentence punctuations with 12%.\n",
    "\n",
    "So from above graph its clear that **NOUN** is most frequent tag in the dataset."
   ]
  },
  {
   "cell_type": "markdown",
   "metadata": {},
   "source": [
    "Now since we have checked the basic information about the dataset, lets dive into the pre-peparation steps for implementing the Viterbi Algorithm."
   ]
  },
  {
   "cell_type": "markdown",
   "metadata": {},
   "source": [
    "### POS Tagging Algorithm - \n",
    "\n",
    "We'll use the HMM algorithm to tag the words. \n",
    "\n",
    "Given a sequence of words to be tagged, the task is to assign the most probable tag to the word. \n",
    "\n",
    "\n",
    "In other words, to every word w, assign the tag t that **maximises the likelihood P(t/w).**\n",
    "\n",
    "**Since P(t/w) = P(w/t). P(t) / P(w), after ignoring P(w), we have to compute P(w/t) and P(t).**\n",
    "\n",
    "\n",
    "P(w/t) is basically the probability that given a tag (say NOUN), what is the probability of it being w (say 'building'). This can be computed by computing the fraction of all NOUNs which are equal to w, i.e. \n",
    "P(w/t) = count(w, t) / count(t). \n",
    "\n",
    "\n",
    "The term P(t) is the probability of tag t, and in a tagging task, we assume that a tag will depend only on the previous tag. \n",
    "\n",
    "In other words, the probability of a tag being NOUN will depend only on the previous tag t(n-1). \n",
    "\n",
    "So for e.g. if t(n-1) is a ADJ, then t(n) is likely to be an NOUN since adjectives often precede a noun (blue coat, tall building etc.).\n",
    "\n",
    "\n",
    "Given the penn treebank tagged dataset, we can compute the two terms P(w/t) and P(t) and store them in two large matrices. \n",
    "\n",
    "The matrix of P(w/t) will be sparse, since each word will not be seen with most tags ever, and those terms will thus be zero. "
   ]
  },
  {
   "cell_type": "markdown",
   "metadata": {},
   "source": [
    "For the sake of implementing Viterbi Algorithm we will compute the **Transition and Emission Probabilities**.\n",
    "\n",
    "**Emission Probablility is nothing but the probability of of a word given tag i.e P(w|t)**"
   ]
  },
  {
   "cell_type": "code",
   "execution_count": 11,
   "metadata": {},
   "outputs": [],
   "source": [
    "#Emission Probability: compute probabiliyword given tag\n",
    "def emission_probability(word, tag, train_bag = train_tagged_words):\n",
    "    tag_list = [pair for pair in train_bag if pair[1]==tag]\n",
    "    count_tag = len(tag_list)\n",
    "    w_given_tag_list = [pair[0] for pair in tag_list if pair[0]==word]\n",
    "    count_w_given_tag = len(w_given_tag_list)\n",
    "    emission_probability = count_w_given_tag/count_tag\n",
    "    return (count_w_given_tag, count_tag, emission_probability)"
   ]
  },
  {
   "cell_type": "code",
   "execution_count": 12,
   "metadata": {},
   "outputs": [
    {
     "name": "stdout",
     "output_type": "stream",
     "text": [
      "There are 0 mentions of Andriod as Noun among 27474 Nouns. Emission probability:0.0 \n",
      "There are 22 mentions of news as Noun among 27474 Nouns. Emission probability:0.0008007570794205431 \n",
      "There are 0 mentions of news as Verb among 12864 verbs. Emission probability:0.0 \n",
      "There are 1786 mentions of a as DET among 8294 DETs. Emission probability:0.21533638775018085 \n"
     ]
    }
   ],
   "source": [
    "#Verify if it works fine for few words\n",
    "print(\"There are {} mentions of Andriod as Noun among {} Nouns. Emission probability:{} \".format(emission_probability('Andriod','NOUN')[0],emission_probability('Andriod','NOUN')[1],emission_probability('Andriod','NOUN')[2]))\n",
    "print(\"There are {} mentions of news as Noun among {} Nouns. Emission probability:{} \".format(emission_probability('news','NOUN')[0],emission_probability('news','NOUN')[1],emission_probability('news','NOUN')[2]))\n",
    "print(\"There are {} mentions of news as Verb among {} verbs. Emission probability:{} \".format(emission_probability('news','VERB')[0],emission_probability('news','VERB')[1],emission_probability('news','VERB')[2]))\n",
    "print(\"There are {} mentions of a as DET among {} DETs. Emission probability:{} \".format(emission_probability('a','DET')[0],emission_probability('a','DET')[1],emission_probability('a','DET')[2]))"
   ]
  },
  {
   "cell_type": "markdown",
   "metadata": {},
   "source": [
    "Emission probabilities seem to be working for with this initial testing. \n",
    "\n",
    "So the **emission_probability** function defined above takes 2 arguments: word and tag. It takes train_tagged_words by default argument, for finding the counts in the train set. It outputs the number of words tagged with given tag, number of tags in the train_set and the transition probabilities of the the word given tag. "
   ]
  },
  {
   "cell_type": "markdown",
   "metadata": {},
   "source": [
    "Now lets compute the Transition Probability.\n",
    "\n",
    "**Transition probability is the probablity of current tag given previous tag. i.e: If t2 is current tag and t1 is previous tag then P(t2|t1)**"
   ]
  },
  {
   "cell_type": "code",
   "execution_count": 13,
   "metadata": {},
   "outputs": [],
   "source": [
    "#Transition Probability: Compute probability of tag2(t2) given tag1 (t1)\n",
    "def transition_probability(t2, t1, train_bag = train_tagged_words):\n",
    "    tags = [pair[1] for pair in train_bag]\n",
    "    count_t1 = len([t for t in tags if t==t1])\n",
    "    count_t2_t1 = 0\n",
    "    for index in range(len(tags)-1):\n",
    "        if tags[index]==t1 and tags[index+1] == t2:\n",
    "            count_t2_t1 += 1\n",
    "    transition_prob = count_t2_t1/count_t1\n",
    "    return (count_t2_t1, count_t1,transition_prob)"
   ]
  },
  {
   "cell_type": "markdown",
   "metadata": {},
   "source": [
    "The **transition_probability** function defined above takes two arguments current tag(t2) and the previous tag(t1) along with by default train_tagged_words from train_set for training. The function outputs the count of t2 given t1, count of t1 and the transition probablities of t2 given t1.\n",
    "\n",
    "**NOTE: For vanilla Viterbi Implementation the transition probability function uses just current and previous tags for probability calculation**"
   ]
  },
  {
   "cell_type": "code",
   "execution_count": 14,
   "metadata": {},
   "outputs": [
    {
     "name": "stdout",
     "output_type": "stream",
     "text": [
      "There are 332 mentions of CONJ(t1) before VERB(t2) and 2148 mentions of Verb(t1). Transition probability:0.15456238361266295 \n"
     ]
    }
   ],
   "source": [
    "#Test on sample from train set\n",
    "print(\"There are {} mentions of CONJ(t1) before VERB(t2) and {} mentions of Verb(t1). Transition probability:{} \".format(transition_probability(t2='VERB',t1='CONJ')[0],transition_probability(t2='VERB',t1='CONJ')[1],transition_probability(t2='VERB',t1='CONJ')[2]))     "
   ]
  },
  {
   "cell_type": "markdown",
   "metadata": {},
   "source": [
    "Seems the sample example for transition probability calculation above is working fine.\n",
    "Now lets calculate the transition tag matrix."
   ]
  },
  {
   "cell_type": "code",
   "execution_count": 15,
   "metadata": {},
   "outputs": [
    {
     "data": {
      "text/html": [
       "<div>\n",
       "<style scoped>\n",
       "    .dataframe tbody tr th:only-of-type {\n",
       "        vertical-align: middle;\n",
       "    }\n",
       "\n",
       "    .dataframe tbody tr th {\n",
       "        vertical-align: top;\n",
       "    }\n",
       "\n",
       "    .dataframe thead th {\n",
       "        text-align: right;\n",
       "    }\n",
       "</style>\n",
       "<table border=\"1\" class=\"dataframe\">\n",
       "  <thead>\n",
       "    <tr style=\"text-align: right;\">\n",
       "      <th></th>\n",
       "      <th>NUM</th>\n",
       "      <th>VERB</th>\n",
       "      <th>DET</th>\n",
       "      <th>ADV</th>\n",
       "      <th>.</th>\n",
       "      <th>ADJ</th>\n",
       "      <th>ADP</th>\n",
       "      <th>CONJ</th>\n",
       "      <th>PRT</th>\n",
       "      <th>PRON</th>\n",
       "      <th>NOUN</th>\n",
       "      <th>X</th>\n",
       "    </tr>\n",
       "  </thead>\n",
       "  <tbody>\n",
       "    <tr>\n",
       "      <th>NUM</th>\n",
       "      <td>0.184876</td>\n",
       "      <td>0.016672</td>\n",
       "      <td>0.003275</td>\n",
       "      <td>0.002977</td>\n",
       "      <td>0.118190</td>\n",
       "      <td>0.033343</td>\n",
       "      <td>0.033641</td>\n",
       "      <td>0.013397</td>\n",
       "      <td>0.027687</td>\n",
       "      <td>0.001191</td>\n",
       "      <td>0.350402</td>\n",
       "      <td>0.214350</td>\n",
       "    </tr>\n",
       "    <tr>\n",
       "      <th>VERB</th>\n",
       "      <td>0.022621</td>\n",
       "      <td>0.168688</td>\n",
       "      <td>0.135728</td>\n",
       "      <td>0.081468</td>\n",
       "      <td>0.035370</td>\n",
       "      <td>0.064599</td>\n",
       "      <td>0.090874</td>\n",
       "      <td>0.005442</td>\n",
       "      <td>0.031250</td>\n",
       "      <td>0.036070</td>\n",
       "      <td>0.111085</td>\n",
       "      <td>0.216807</td>\n",
       "    </tr>\n",
       "    <tr>\n",
       "      <th>DET</th>\n",
       "      <td>0.022305</td>\n",
       "      <td>0.038944</td>\n",
       "      <td>0.005305</td>\n",
       "      <td>0.012539</td>\n",
       "      <td>0.018085</td>\n",
       "      <td>0.204847</td>\n",
       "      <td>0.009163</td>\n",
       "      <td>0.000482</td>\n",
       "      <td>0.000241</td>\n",
       "      <td>0.003497</td>\n",
       "      <td>0.638896</td>\n",
       "      <td>0.045696</td>\n",
       "    </tr>\n",
       "    <tr>\n",
       "      <th>ADV</th>\n",
       "      <td>0.031635</td>\n",
       "      <td>0.346653</td>\n",
       "      <td>0.068931</td>\n",
       "      <td>0.078921</td>\n",
       "      <td>0.138528</td>\n",
       "      <td>0.128538</td>\n",
       "      <td>0.116550</td>\n",
       "      <td>0.006327</td>\n",
       "      <td>0.013986</td>\n",
       "      <td>0.015318</td>\n",
       "      <td>0.031635</td>\n",
       "      <td>0.022977</td>\n",
       "    </tr>\n",
       "    <tr>\n",
       "      <th>.</th>\n",
       "      <td>0.081764</td>\n",
       "      <td>0.088757</td>\n",
       "      <td>0.172136</td>\n",
       "      <td>0.052537</td>\n",
       "      <td>0.092254</td>\n",
       "      <td>0.043930</td>\n",
       "      <td>0.092433</td>\n",
       "      <td>0.058185</td>\n",
       "      <td>0.002062</td>\n",
       "      <td>0.065806</td>\n",
       "      <td>0.222342</td>\n",
       "      <td>0.027703</td>\n",
       "    </tr>\n",
       "    <tr>\n",
       "      <th>ADJ</th>\n",
       "      <td>0.021273</td>\n",
       "      <td>0.011544</td>\n",
       "      <td>0.004947</td>\n",
       "      <td>0.004782</td>\n",
       "      <td>0.064479</td>\n",
       "      <td>0.067282</td>\n",
       "      <td>0.076022</td>\n",
       "      <td>0.016985</td>\n",
       "      <td>0.010884</td>\n",
       "      <td>0.000660</td>\n",
       "      <td>0.700033</td>\n",
       "      <td>0.021108</td>\n",
       "    </tr>\n",
       "    <tr>\n",
       "      <th>ADP</th>\n",
       "      <td>0.061141</td>\n",
       "      <td>0.008352</td>\n",
       "      <td>0.323803</td>\n",
       "      <td>0.013813</td>\n",
       "      <td>0.040261</td>\n",
       "      <td>0.105793</td>\n",
       "      <td>0.017025</td>\n",
       "      <td>0.000857</td>\n",
       "      <td>0.001285</td>\n",
       "      <td>0.069172</td>\n",
       "      <td>0.324660</td>\n",
       "      <td>0.033837</td>\n",
       "    </tr>\n",
       "    <tr>\n",
       "      <th>CONJ</th>\n",
       "      <td>0.040503</td>\n",
       "      <td>0.154562</td>\n",
       "      <td>0.120577</td>\n",
       "      <td>0.054469</td>\n",
       "      <td>0.035382</td>\n",
       "      <td>0.121974</td>\n",
       "      <td>0.049814</td>\n",
       "      <td>0.000466</td>\n",
       "      <td>0.004190</td>\n",
       "      <td>0.059590</td>\n",
       "      <td>0.349628</td>\n",
       "      <td>0.008845</td>\n",
       "    </tr>\n",
       "    <tr>\n",
       "      <th>PRT</th>\n",
       "      <td>0.056026</td>\n",
       "      <td>0.400326</td>\n",
       "      <td>0.101629</td>\n",
       "      <td>0.010098</td>\n",
       "      <td>0.043648</td>\n",
       "      <td>0.085993</td>\n",
       "      <td>0.019544</td>\n",
       "      <td>0.002280</td>\n",
       "      <td>0.001954</td>\n",
       "      <td>0.018241</td>\n",
       "      <td>0.246254</td>\n",
       "      <td>0.014007</td>\n",
       "    </tr>\n",
       "    <tr>\n",
       "      <th>PRON</th>\n",
       "      <td>0.007285</td>\n",
       "      <td>0.480828</td>\n",
       "      <td>0.009586</td>\n",
       "      <td>0.035276</td>\n",
       "      <td>0.040261</td>\n",
       "      <td>0.072853</td>\n",
       "      <td>0.023006</td>\n",
       "      <td>0.004985</td>\n",
       "      <td>0.013037</td>\n",
       "      <td>0.006902</td>\n",
       "      <td>0.212040</td>\n",
       "      <td>0.093942</td>\n",
       "    </tr>\n",
       "    <tr>\n",
       "      <th>NOUN</th>\n",
       "      <td>0.009463</td>\n",
       "      <td>0.146975</td>\n",
       "      <td>0.013394</td>\n",
       "      <td>0.016743</td>\n",
       "      <td>0.240045</td>\n",
       "      <td>0.012011</td>\n",
       "      <td>0.176531</td>\n",
       "      <td>0.042331</td>\n",
       "      <td>0.044224</td>\n",
       "      <td>0.004768</td>\n",
       "      <td>0.264286</td>\n",
       "      <td>0.029228</td>\n",
       "    </tr>\n",
       "    <tr>\n",
       "      <th>X</th>\n",
       "      <td>0.002702</td>\n",
       "      <td>0.203942</td>\n",
       "      <td>0.055317</td>\n",
       "      <td>0.025433</td>\n",
       "      <td>0.163726</td>\n",
       "      <td>0.016532</td>\n",
       "      <td>0.143538</td>\n",
       "      <td>0.010491</td>\n",
       "      <td>0.185344</td>\n",
       "      <td>0.055158</td>\n",
       "      <td>0.062947</td>\n",
       "      <td>0.074869</td>\n",
       "    </tr>\n",
       "  </tbody>\n",
       "</table>\n",
       "</div>"
      ],
      "text/plain": [
       "           NUM      VERB       DET       ADV         .       ADJ       ADP  \\\n",
       "NUM   0.184876  0.016672  0.003275  0.002977  0.118190  0.033343  0.033641   \n",
       "VERB  0.022621  0.168688  0.135728  0.081468  0.035370  0.064599  0.090874   \n",
       "DET   0.022305  0.038944  0.005305  0.012539  0.018085  0.204847  0.009163   \n",
       "ADV   0.031635  0.346653  0.068931  0.078921  0.138528  0.128538  0.116550   \n",
       ".     0.081764  0.088757  0.172136  0.052537  0.092254  0.043930  0.092433   \n",
       "ADJ   0.021273  0.011544  0.004947  0.004782  0.064479  0.067282  0.076022   \n",
       "ADP   0.061141  0.008352  0.323803  0.013813  0.040261  0.105793  0.017025   \n",
       "CONJ  0.040503  0.154562  0.120577  0.054469  0.035382  0.121974  0.049814   \n",
       "PRT   0.056026  0.400326  0.101629  0.010098  0.043648  0.085993  0.019544   \n",
       "PRON  0.007285  0.480828  0.009586  0.035276  0.040261  0.072853  0.023006   \n",
       "NOUN  0.009463  0.146975  0.013394  0.016743  0.240045  0.012011  0.176531   \n",
       "X     0.002702  0.203942  0.055317  0.025433  0.163726  0.016532  0.143538   \n",
       "\n",
       "          CONJ       PRT      PRON      NOUN         X  \n",
       "NUM   0.013397  0.027687  0.001191  0.350402  0.214350  \n",
       "VERB  0.005442  0.031250  0.036070  0.111085  0.216807  \n",
       "DET   0.000482  0.000241  0.003497  0.638896  0.045696  \n",
       "ADV   0.006327  0.013986  0.015318  0.031635  0.022977  \n",
       ".     0.058185  0.002062  0.065806  0.222342  0.027703  \n",
       "ADJ   0.016985  0.010884  0.000660  0.700033  0.021108  \n",
       "ADP   0.000857  0.001285  0.069172  0.324660  0.033837  \n",
       "CONJ  0.000466  0.004190  0.059590  0.349628  0.008845  \n",
       "PRT   0.002280  0.001954  0.018241  0.246254  0.014007  \n",
       "PRON  0.004985  0.013037  0.006902  0.212040  0.093942  \n",
       "NOUN  0.042331  0.044224  0.004768  0.264286  0.029228  \n",
       "X     0.010491  0.185344  0.055158  0.062947  0.074869  "
      ]
     },
     "execution_count": 15,
     "metadata": {},
     "output_type": "execute_result"
    }
   ],
   "source": [
    "#The lookup in the transition matrix heavily reduces the execution time rather than calculating it in Viterbi everytime\n",
    "#Considering the tags combo. So we follow the same route.\n",
    "#Create t x t transition matrix of tags\n",
    "#Each column is t2, each row is t1\n",
    "#Thus M(i, j) represents P(tj given ti)\n",
    "\n",
    "tags_matrix = np.zeros((len(tags), len(tags)), dtype='float32')\n",
    "for i, t1 in enumerate(list(tags)):\n",
    "    for j, t2 in enumerate(list(tags)): \n",
    "        tags_matrix[i, j] = transition_probability(t2, t1)[0]/transition_probability(t2, t1)[1]\n",
    "        if (tags_matrix[i, j]==0):\n",
    "            print(i,j)\n",
    "tags_df = pd.DataFrame(tags_matrix, columns = list(tags), index=list(tags))\n",
    "tags_df"
   ]
  },
  {
   "cell_type": "code",
   "execution_count": 16,
   "metadata": {},
   "outputs": [
    {
     "data": {
      "text/plain": [
       "0.00024113817"
      ]
     },
     "execution_count": 16,
     "metadata": {},
     "output_type": "execute_result"
    },
    {
     "data": {
      "text/plain": [
       "0.18487646"
      ]
     },
     "execution_count": 16,
     "metadata": {},
     "output_type": "execute_result"
    }
   ],
   "source": [
    "#Check if lookup is working fine\n",
    "tags_df.min().min()\n",
    "tags_df['NUM']['NUM']"
   ]
  },
  {
   "cell_type": "markdown",
   "metadata": {},
   "source": [
    "From above sample execution seems lookup is working fine."
   ]
  },
  {
   "cell_type": "markdown",
   "metadata": {},
   "source": [
    "Now since we have computed/defined both Emission and Transition Probablities lets define the **Viterbi Algorithm**.\n",
    "\n",
    "The basic notion of Viterbi Algorithm is:\n",
    "Given list of observations/words to be tagged rather than computing the probabilities of all the possible tag sequences assign the tags sequentially i.e: assign the most likely tag to each word using the previous tag.\n",
    "\n",
    "Assign tag Tj to each word Wi such that it maximises the likelihood function\n",
    "\n",
    "P(Tj | Wi) = P(Wi | Tj) * P(Tj | Tj-1)\n",
    "\n",
    "    Where Tj is the current tag\n",
    "          Wi is the current word\n",
    "          Tj-1 is the previous tag\n",
    "      \n",
    "This likelihood function is called state probability and can be written as:\n",
    "state_probability = transition_probability * emission_probability.\n",
    "\n",
    "That's what we will do in the Viterbi Algorithm defined below."
   ]
  },
  {
   "cell_type": "code",
   "execution_count": 17,
   "metadata": {},
   "outputs": [],
   "source": [
    "# Define VANILLA Viterbi Algorithm\n",
    "def Viterbi(words, method, train_bag = train_tagged_words):\n",
    "    #Deine the list to capture the states/tags\n",
    "    state = []\n",
    "    \n",
    "    #get the list of tags from train_set\n",
    "    #Note Viterbi is Greedy Algorithm and it will assign the first entry as tag for the unknown words \n",
    "    #Since the state_probability will be ZERO as emission_probability will be ZERO\n",
    "    T = list(set([pair[1] for pair in train_bag]))\n",
    "    \n",
    "    #In every run the list tag order changes so sort them for consistent o/p each time\n",
    "    T.sort(reverse=True)\n",
    "    print(\"Default tag list is: \", T)\n",
    "    \n",
    "    #List Unknown words from the i/p words just to check if tags are assigned properly later\n",
    "    #Define list to append unknown words\n",
    "    unknown_words=[]\n",
    "    \n",
    "    #Check for vocab words / known words\n",
    "    known_words = list(set([pair[0] for pair in train_bag]))\n",
    "\n",
    "    for w in words:\n",
    "        if w not in known_words:\n",
    "            unknown_words.append(w)\n",
    "            \n",
    "    #Check number of known words and Unknown words in the run\n",
    "    print(\"Number of KNOWN words in this run are:\",len(known_words))\n",
    "    print(\"Number of Unknown words in this run are:\",len(unknown_words))\n",
    "    \n",
    "    #Now for each word and tag calculate the transition and emission probabilities along with state probabilities\n",
    "    for key, word in enumerate(words):\n",
    "        #initialise list of probability column for a given observation\n",
    "        p = [] \n",
    "        for tag in T:\n",
    "            #Compute the Transition probabilities\n",
    "            #The lookup in the transition matrix heavily reduces the execution time rather than calculating it here\n",
    "            #So we follow the same route\n",
    "            #if key == 0:\n",
    "            #    transition_p = transition_probability('.', tag)[2]\n",
    "            #else:\n",
    "            #    transition_p = transition_probability(state[-1], tag)[2]\n",
    "            if key == 0:\n",
    "                transition_p = tags_df.loc['.', tag]\n",
    "            else:\n",
    "                transition_p = tags_df.loc[state[-1], tag]   \n",
    "                \n",
    "            #Compute Emission probabilities\n",
    "            #Remember the emission_probability function returns 3 values and 3rd value is probability\n",
    "            emission_p = float(emission_probability(words[key], tag)[2])\n",
    "            \n",
    "            #Calculate state probabilities\n",
    "            state_probability = emission_p * transition_p \n",
    "            \n",
    "            #Add this to probability matrix\n",
    "            p.append(state_probability)\n",
    "        \n",
    "        #Calculate the max value of probability\n",
    "        #For unknown words this values will be ZERO\n",
    "        pmax = max(p)\n",
    "        \n",
    "        #Getting state/tag from tag list T for which probability is maximum\n",
    "        #If its zero it will return the first tag in the list\n",
    "        state_max = T[p.index(pmax)] \n",
    "        state.append(state_max)\n",
    "    #Final Word-Tag sequence\n",
    "    tag_seq = list(zip(words, state))\n",
    "    \n",
    "    #For verification purpose later \n",
    "    #List out the unknown word and tag sequence as tagged by Viterbi Algorithm\n",
    "    print(\"Tagged Unknown Words are: \")\n",
    "    for i in range(len(tag_seq)):\n",
    "        if tag_seq[i][0] in unknown_words:\n",
    "            print(tag_seq[i])\n",
    "    return tag_seq"
   ]
  },
  {
   "cell_type": "markdown",
   "metadata": {},
   "source": [
    "Now since we have defined the Viterbi Algorithm lets test the VANILLA Viterbi algorithm on the test set."
   ]
  },
  {
   "cell_type": "markdown",
   "metadata": {},
   "source": [
    "For testing out the accuracy on validation and test set, we defined following methods below for common testing functions, which we can use later.\n",
    "\n",
    "The **validation_testing** function tests the accuracy based on the algorithm passed and method used for handling unknown words.\n",
    "\n",
    "Similarly **test_testing** function tests the accuracy of the algorithm and method used for handling unknown words.\n",
    "\n",
    "Since we dont have tagset to compare the accuarcy for test set we will list out the use test cases which are wrongly or rightly tagged by the algorithm or method used.\n",
    "\n",
    "We will be using 2 algorithms:\n",
    "\n",
    "1)**Viterbi** - This is Vanilla Viterbi which has no logic to handle the unknown words.\n",
    "\n",
    "2) **modified_Viterbi** - This algorithm, along with basic Viterbi Heuristic, has modified code to handle the unknown words.\n",
    "\n",
    "We will use 4 methods to tests out the unknown words tagging:\n",
    "\n",
    "1) **Laplace Smoothing**\n",
    "\n",
    "2) **Most Probable Tag** which is based on most frequent tag in the dataset.\n",
    "\n",
    "3) **Rule Based Tagging** which defines rules based on words morphology\n",
    "\n",
    "4) **ngram_tagger** which uses ngram technique to handle the unknown words."
   ]
  },
  {
   "cell_type": "code",
   "execution_count": 18,
   "metadata": {},
   "outputs": [],
   "source": [
    "#Lets define 2 lists to capture the methods used for testing the unknown words and accuracy obtained\n",
    "#We will append values and use them to evaluate later\n",
    "method_list=[]\n",
    "accuracy_list=[]\n",
    "\n",
    "#This function takes 2 arguments\n",
    "#algorithm: The algorithm used (Viterbi or modified_Viterbi)\n",
    "#method: The method used to handle the unknwon words\n",
    "def validation_testing(algorithm,method):\n",
    "    # Running on entire test dataset takes more than 3-4hrs. \n",
    "    # So we will test our Viterbi algorithm on a few sample random sentences of test dataset\n",
    "    random.seed(1234)\n",
    "\n",
    "    #Choose random 5 sentences\n",
    "    rndom = [random.randint(1,len(validation_set)) for x in range(5)]\n",
    "    validation_run = [validation_set[i] for i in rndom]\n",
    "    \n",
    "    #In case you want to check on whole validation set uncomment this line and comment above 2 lines\n",
    "    #validation_run = [validation_set[words] for words in validation_set]\n",
    "\n",
    "    #List of Word-tags in those sentences for accuracy calculation later\n",
    "    validation_run_base = [tup for sent in validation_run for tup in sent]\n",
    "\n",
    "    #List of words\n",
    "    validation_tagged_words = [tup[0] for sent in validation_run for tup in sent]\n",
    "\n",
    "\n",
    "    #Tag the words extracted above using Viterbi Algorithm\n",
    "    #Start time\n",
    "    start = time.time()\n",
    "\n",
    "    #Actual Tagging\n",
    "    validation_seq = algorithm((validation_tagged_words),method)\n",
    "\n",
    "    #End Time\n",
    "    end = time.time()\n",
    "\n",
    "    #Actual execution time\n",
    "    difference = end-start\n",
    "\n",
    "    print(\"Time taken for execution in validation run: \", difference)\n",
    "\n",
    "    # Calculate the accuarcy\n",
    "    #Check the word-tags in the validation_set against the word-tag as predicted by Viterbi\n",
    "    check = [i for i, j in zip(validation_seq, validation_run_base) if i == j] \n",
    "\n",
    "    #Accuracy\n",
    "    accuracy = round((len(check)/len(validation_seq))*100)\n",
    "    print('Accuarcy of prediction in Validation set is {}% '.format(accuracy))\n",
    "    \n",
    "    #Append the method and accuracy to the list\n",
    "    method_list.append(method)\n",
    "    accuracy_list.append(accuracy)"
   ]
  },
  {
   "cell_type": "code",
   "execution_count": 19,
   "metadata": {},
   "outputs": [
    {
     "name": "stdout",
     "output_type": "stream",
     "text": [
      "Default tag list is:  ['X', 'VERB', 'PRT', 'PRON', 'NUM', 'NOUN', 'DET', 'CONJ', 'ADV', 'ADP', 'ADJ', '.']\n",
      "Number of KNOWN words in this run are: 12097\n",
      "Number of Unknown words in this run are: 10\n",
      "Tagged Unknown Words are: \n",
      "('seven-yen', 'X')\n",
      "('pledged', 'X')\n",
      "('modernization', 'X')\n",
      "('impeding', 'X')\n",
      "('*T*-117', 'X')\n",
      "('Jennison', 'X')\n",
      "('7.79', 'X')\n",
      "('7.52', 'X')\n",
      "('7.60', 'X')\n",
      "('suddenly', 'X')\n",
      "Time taken for execution in validation run:  35.09143400192261\n",
      "Accuarcy of prediction in Validation set is 87% \n"
     ]
    }
   ],
   "source": [
    "#Check Viterbi for Vanilla method on Validation set\n",
    "validation_testing(Viterbi,'Vanilla')"
   ]
  },
  {
   "cell_type": "markdown",
   "metadata": {},
   "source": [
    "The validation run shows the default accuarcy of 87% for the Viterbi.\n",
    "\n",
    "Nonetheless our main concern is tagging the unknown words.\n",
    "As seen from the above run we have 10 unknown words:\n",
    "e.g: \"pledged, Jennison,7.79\",etc\n",
    "\n",
    "All the unknown words are tagged as X (other: foreign words, typos, abbreviations) because that's the first entry in the input tag list.\n",
    "\n",
    "All the unknown words whose emission probability is ZERO are by default assigned the first tag.\n",
    "\n",
    "Out of these 3 words:\n",
    "\n",
    "        pledged is a VERB wrongly tagged as X\n",
    "        Jennison is a NOUN worngly tagged as X\n",
    "        7.79 is a NUM and wrongly tagged as X.\n",
    "\n",
    "Now lets check the same on the given test set."
   ]
  },
  {
   "cell_type": "code",
   "execution_count": 20,
   "metadata": {},
   "outputs": [],
   "source": [
    "#This function does testing on test set based on algorithm and method specified\n",
    "def test_testing(algorithm,method):\n",
    "    #Check the start and End Time for execution\n",
    "    #Start time\n",
    "    start = time.time()\n",
    "\n",
    "    #Test the Vanilla Viterbi on test Set\n",
    "    test_seq = algorithm(test_set,method)\n",
    "    print(\"\\n******* All the words tagged in Test Set are: ********\\n\")\n",
    "    print(test_seq)\n",
    "\n",
    "    #End time\n",
    "    end = time.time()\n",
    "\n",
    "    #Time taken\n",
    "    difference = end-start\n",
    "    print(\"Time taken for execution: \", difference)\n"
   ]
  },
  {
   "cell_type": "code",
   "execution_count": 21,
   "metadata": {},
   "outputs": [
    {
     "name": "stdout",
     "output_type": "stream",
     "text": [
      "Default tag list is:  ['X', 'VERB', 'PRT', 'PRON', 'NUM', 'NOUN', 'DET', 'CONJ', 'ADV', 'ADP', 'ADJ', '.']\n",
      "Number of KNOWN words in this run are: 12097\n",
      "Number of Unknown words in this run are: 49\n",
      "Tagged Unknown Words are: \n",
      "('android', 'X')\n",
      "('google', 'X')\n",
      "('android', 'X')\n",
      "('os', 'X')\n",
      "('worldwide', 'X')\n",
      "('smartphones', 'X')\n",
      "('2011', 'X')\n",
      "('2013', 'X')\n",
      "('google', 'X')\n",
      "('twitter', 'X')\n",
      "('2015', 'X')\n",
      "('google', 'X')\n",
      "('twitter', 'X')\n",
      "('firehose', 'X')\n",
      "('twitter', 'X')\n",
      "('online', 'X')\n",
      "('interact', 'X')\n",
      "('messages', 'X')\n",
      "('tweets', 'X')\n",
      "('donald', 'X')\n",
      "('trump', 'X')\n",
      "('domineering', 'X')\n",
      "('personality', 'X')\n",
      "('2018', 'X')\n",
      "('fifa', 'X')\n",
      "('cup', 'X')\n",
      "('21st', 'X')\n",
      "('fifa', 'X')\n",
      "('cup', 'X')\n",
      "('tournament', 'X')\n",
      "('contested', 'X')\n",
      "('cup', 'X')\n",
      "('eastern', 'X')\n",
      "('europe', 'X')\n",
      "('europe', 'X')\n",
      "('trips', 'X')\n",
      "('dallas', 'X')\n",
      "('atlanta', 'X')\n",
      "('i', 'X')\n",
      "('denver', 'X')\n",
      "('philadelphia', 'X')\n",
      "('atlanta', 'X')\n",
      "('arriving', 'X')\n",
      "('san', 'X')\n",
      "('francisco', 'X')\n",
      "('nasa', 'X')\n",
      "('invited', 'X')\n",
      "('icesat-2', 'X')\n",
      "('satellite', 'X')\n",
      "\n",
      "******* All the words tagged in Test Set are: ********\n",
      "\n",
      "[('android', 'X'), ('is', 'VERB'), ('a', 'DET'), ('mobile', 'ADJ'), ('operating', 'NOUN'), ('system', 'NOUN'), ('developed', 'VERB'), ('by', 'ADP'), ('google', 'X'), ('.', '.'), ('android', 'X'), ('has', 'VERB'), ('been', 'VERB'), ('the', 'DET'), ('best-selling', 'ADJ'), ('os', 'X'), ('worldwide', 'X'), ('on', 'ADP'), ('smartphones', 'X'), ('since', 'ADP'), ('2011', 'X'), ('and', 'CONJ'), ('on', 'ADP'), ('tablets', 'NOUN'), ('since', 'ADP'), ('2013', 'X'), ('.', '.'), ('google', 'X'), ('and', 'CONJ'), ('twitter', 'X'), ('made', 'VERB'), ('a', 'DET'), ('deal', 'NOUN'), ('in', 'ADP'), ('2015', 'X'), ('that', 'ADP'), ('gave', 'VERB'), ('google', 'X'), ('access', 'NOUN'), ('to', 'PRT'), ('twitter', 'X'), (\"'s\", 'PRT'), ('firehose', 'X'), ('.', '.'), ('twitter', 'X'), ('is', 'VERB'), ('an', 'DET'), ('online', 'X'), ('news', 'NOUN'), ('and', 'CONJ'), ('social', 'ADJ'), ('networking', 'NOUN'), ('service', 'NOUN'), ('on', 'ADP'), ('which', 'DET'), ('users', 'NOUN'), ('post', 'NOUN'), ('and', 'CONJ'), ('interact', 'X'), ('with', 'ADP'), ('messages', 'X'), ('known', 'VERB'), ('as', 'ADP'), ('tweets', 'X'), ('.', '.'), ('before', 'ADP'), ('entering', 'VERB'), ('politics', 'NOUN'), (',', '.'), ('donald', 'X'), ('trump', 'X'), ('was', 'VERB'), ('a', 'DET'), ('domineering', 'X'), ('businessman', 'NOUN'), ('and', 'CONJ'), ('a', 'DET'), ('television', 'NOUN'), ('personality', 'X'), ('.', '.'), ('the', 'DET'), ('2018', 'X'), ('fifa', 'X'), ('world', 'NOUN'), ('cup', 'X'), ('is', 'VERB'), ('the', 'DET'), ('21st', 'X'), ('fifa', 'X'), ('world', 'NOUN'), ('cup', 'X'), (',', '.'), ('an', 'DET'), ('international', 'ADJ'), ('football', 'NOUN'), ('tournament', 'X'), ('contested', 'X'), ('once', 'ADV'), ('every', 'DET'), ('four', 'NUM'), ('years', 'NOUN'), ('.', '.'), ('this', 'DET'), ('is', 'VERB'), ('the', 'DET'), ('first', 'ADJ'), ('world', 'NOUN'), ('cup', 'X'), ('to', 'PRT'), ('be', 'VERB'), ('held', 'VERB'), ('in', 'ADP'), ('eastern', 'X'), ('europe', 'X'), ('and', 'CONJ'), ('the', 'DET'), ('11th', 'ADJ'), ('time', 'NOUN'), ('that', 'ADP'), ('it', 'PRON'), ('has', 'VERB'), ('been', 'VERB'), ('held', 'VERB'), ('in', 'ADP'), ('europe', 'X'), ('.', '.'), ('show', 'NOUN'), ('me', 'PRON'), ('the', 'DET'), ('cheapest', 'ADJ'), ('round', 'NOUN'), ('trips', 'X'), ('from', 'ADP'), ('dallas', 'X'), ('to', 'PRT'), ('atlanta', 'X'), ('i', 'X'), ('would', 'VERB'), ('like', 'ADP'), ('to', 'PRT'), ('see', 'VERB'), ('flights', 'NOUN'), ('from', 'ADP'), ('denver', 'X'), ('to', 'PRT'), ('philadelphia', 'X'), ('.', '.'), ('show', 'NOUN'), ('me', 'PRON'), ('the', 'DET'), ('price', 'NOUN'), ('of', 'ADP'), ('the', 'DET'), ('flights', 'NOUN'), ('leaving', 'VERB'), ('atlanta', 'X'), ('at', 'ADP'), ('about', 'ADP'), ('3', 'NUM'), ('in', 'ADP'), ('the', 'DET'), ('afternoon', 'NOUN'), ('and', 'CONJ'), ('arriving', 'X'), ('in', 'ADP'), ('san', 'X'), ('francisco', 'X'), ('.', '.'), ('nasa', 'X'), ('invited', 'X'), ('social', 'ADJ'), ('media', 'NOUN'), ('users', 'NOUN'), ('to', 'PRT'), ('experience', 'NOUN'), ('the', 'DET'), ('launch', 'NOUN'), ('of', 'ADP'), ('icesat-2', 'X'), ('satellite', 'X'), ('.', '.')]\n",
      "Time taken for execution:  51.48684549331665\n"
     ]
    }
   ],
   "source": [
    "#Test Viterbi algorithm on Vanilla method on test set\n",
    "test_testing(Viterbi,'Vanilla')"
   ]
  },
  {
   "cell_type": "markdown",
   "metadata": {},
   "source": [
    "Now as seen from above execution there are 49 unknown words in this execution and all these words are tagged as X by the Vanilla Viterbi Implementation as its the first entry in the tag list which is wrong.\n",
    "\n",
    "Consider the first few entries:\n",
    "        \n",
    "        \"Android\" is a name(NOUN) wrongly tagged as X\n",
    "        \"invited\" is a VERB but wrongly tagged as X\n",
    "        \"2011\" is a year(NUM) wrongly tagged as X\n",
    "        \n",
    "All the unknown words are wrongly tagged.\n",
    "\n",
    "We will introduce couple of techniques to handle this issue and see if the accuracy of the VITERBI can be increased."
   ]
  },
  {
   "cell_type": "markdown",
   "metadata": {},
   "source": [
    "# Modified Viterbi for handling Unknown Words"
   ]
  },
  {
   "cell_type": "markdown",
   "metadata": {},
   "source": [
    "In this section, we will introduce various methods to handle the unknown words which is one of the drawback of the Vaniall Viterbi Algorthm."
   ]
  },
  {
   "cell_type": "markdown",
   "metadata": {},
   "source": [
    "## Method 1: Laplace Smoothing"
   ]
  },
  {
   "cell_type": "markdown",
   "metadata": {},
   "source": [
    "The issue with the Vanilla Viterbi is that the emission probability is ZERO if the word-tag pair is not found in the dataset.\n",
    "\n",
    "One of the workaorund would be to smoothe out these ZERO values so that inspite of assigning ZERO values to emission probability and thereby the state probability (since emission_p * transition_p will be ZERO for emission_p = ZERO).\n",
    "\n",
    "So we will use Laplace Smoothing like logic to forfeit this problem.\n",
    "\n",
    "Here is the basic logic used:\n",
    "\n",
    "If w is not in the training text then P(w|t) = 0. Despite of course being a very bad estimate of the true probability, zero-probabilities like this will also result in that all possible state-sequences for an observation sequence containing an unknown word will have probability 0 and therefore we cannot choose between them.\n",
    "\n",
    "One way of solving this problem is using Laplace smoothing. \n",
    "\n",
    "This gives us:\n",
    "\n",
    "P(w|T) = (count(w|T) +1 ) / (count(T) + |V |) \n",
    "\n",
    "where,\n",
    "\n",
    "count(w|T) is count of word given tag\n",
    "count(T) is count of tag\n",
    "|V | is smoothing co-efficient i.e: the number of vocabulary words in the training text.\n",
    "\n",
    "Based on these the viterbi Algorithm defined earlier is now modified as below.\n"
   ]
  },
  {
   "cell_type": "code",
   "execution_count": 22,
   "metadata": {},
   "outputs": [],
   "source": [
    "# This function defines modified Viterbi Algorithm\n",
    "#It takes additional i/p as method (method used for handling unknown words)\n",
    "#and n which is the attribute used later for ngram Tagging.\n",
    "\n",
    "def modified_Viterbi(words,method, n=2,train_bag = train_tagged_words):\n",
    "    #Deine the list to capture the states/tags\n",
    "    state = []\n",
    "    \n",
    "    #get the list of tags from train_set\n",
    "    #Note Viterbi is Greedy Algorithm and it will assign the first entry as tag for the unknown words \n",
    "    #Since the state_probability will be ZERO as emission_probability will be ZERO\n",
    "    T = list(set([pair[1] for pair in train_bag]))\n",
    "    \n",
    "    #In every run the list tag order changes so sort them for consistent o/p each time\n",
    "    T.sort(reverse=True)\n",
    "    print(\"Default tag list is: \", T)\n",
    "    \n",
    "    #List Unknown words from the i/p words just to check if tags are assigned properly later\n",
    "    #Define list to append unknown words\n",
    "    unknown_words=[]\n",
    "    \n",
    "    #Check for vocab words / known words\n",
    "    known_words = list(set([pair[0] for pair in train_bag]))\n",
    "\n",
    "    for w in words:\n",
    "        if w not in known_words:\n",
    "            unknown_words.append(w)\n",
    "            \n",
    "    #Check number of known words and Unknown words in the run\n",
    "    print(\"Number of KNOWN words in this run are:\",len(known_words))\n",
    "    print(\"Number of Unknown words in this run are:\",len(unknown_words))\n",
    "    print('Method used for tagging Unknown Words is:', method)\n",
    "    #Now for each word and tag calculate the transition and emission probabilities along with state probabilities\n",
    "    for key, word in enumerate(words):\n",
    "        #initialise list of probability column for a given observation\n",
    "        p = [] \n",
    "        for tag in T:\n",
    "            #Compute the Transition probabilities\n",
    "            #The lookup in the transition matrix heavily reduces the execution time rather than calculating it here\n",
    "            #So we follow the same route\n",
    "            #if key == 0:\n",
    "            #    transition_p = transition_probability('.', tag)[2]\n",
    "            #else:\n",
    "            #    transition_p = transition_probability(state[-1], tag)[2]\n",
    "            if key == 0:\n",
    "                transition_p = tags_df.loc['.', tag]\n",
    "            else:\n",
    "                transition_p = tags_df.loc[state[-1], tag]   \n",
    "                \n",
    "            #Compute Emission probabilities\n",
    "            #Remember the emission_probability function returns 3 values and 3rd value is probability\n",
    "            emission_p = float(emission_probability(words[key], tag)[2])\n",
    "            \n",
    "            #If emission_p is zero smoothe out the value using formula as defined above.\n",
    "            if(method=='laplace_smoothing'):\n",
    "                if(emission_p==0):\n",
    "                    emission_p = float((emission_probability(words[key], tag)[0] + 1)/ + (emission_probability(words[key], tag)[1] + len(train_bag)))\n",
    "            \n",
    "            #Calculate state probabilities\n",
    "            state_probability = emission_p * transition_p \n",
    "            \n",
    "            #Add this to probability matrix\n",
    "            p.append(state_probability)\n",
    "        \n",
    "        #Calculate the max value of probability\n",
    "        #For unknown words this values will be ZERO\n",
    "        pmax = max(p)\n",
    "        if pmax ==0.0:\n",
    "            #methods to handle unknown words\n",
    "            #Rule Based tagger\n",
    "            if(method=='rule_tagger'):\n",
    "                state_max = rule_tagger(words[key])\n",
    "            #ngram Tagger\n",
    "            elif(method=='ngram_Tagger'):\n",
    "                state_max = ngram_Tagger(words[key],n=n)\n",
    "            #Frequency Based Tagger\n",
    "            elif(method=='frequency_based_tagging'):\n",
    "                state_max = frequency_based_tagging()\n",
    "        else:\n",
    "            #Getting state/tag from tag list T for which probability is maximum\n",
    "            #If its zero it will return the first tag in the list\n",
    "            state_max = T[p.index(pmax)] \n",
    "        state.append(state_max)\n",
    "    #Final Word-Tag sequence\n",
    "    tag_seq = list(zip(words, state))\n",
    "    \n",
    "    #For verification purpose later \n",
    "    #List out the unknown word and tag sequence as tagged by Viterbi Algorithm\n",
    "    print(\"Tagged Unknown Words are: \")\n",
    "    for i in range(len(tag_seq)):\n",
    "        if tag_seq[i][0] in unknown_words:\n",
    "            print(tag_seq[i])\n",
    "            \n",
    "    return tag_seq"
   ]
  },
  {
   "cell_type": "markdown",
   "metadata": {},
   "source": [
    "**Note:** This take time to execute since probabilities are re-calculated. Some patience please!!!!! :)"
   ]
  },
  {
   "cell_type": "code",
   "execution_count": 23,
   "metadata": {},
   "outputs": [
    {
     "name": "stdout",
     "output_type": "stream",
     "text": [
      "Default tag list is:  ['X', 'VERB', 'PRT', 'PRON', 'NUM', 'NOUN', 'DET', 'CONJ', 'ADV', 'ADP', 'ADJ', '.']\n",
      "Number of KNOWN words in this run are: 12097\n",
      "Number of Unknown words in this run are: 10\n",
      "Method used for tagging Unknown Words is: laplace_smoothing\n",
      "Tagged Unknown Words are: \n",
      "('seven-yen', 'NOUN')\n",
      "('pledged', '.')\n",
      "('modernization', 'DET')\n",
      "('impeding', 'VERB')\n",
      "('*T*-117', 'DET')\n",
      "('Jennison', '.')\n",
      "('7.79', 'DET')\n",
      "('7.52', 'DET')\n",
      "('7.60', 'DET')\n",
      "('suddenly', 'X')\n",
      "Time taken for execution in validation run:  96.88636922836304\n",
      "Accuarcy of prediction in Validation set is 87% \n"
     ]
    }
   ],
   "source": [
    "#Check the laplace_smoothing modification on modified Viterbi algorithm on Validation set\n",
    "validation_testing(modified_Viterbi,'laplace_smoothing')"
   ]
  },
  {
   "cell_type": "markdown",
   "metadata": {},
   "source": [
    "As seen from above there isnt much improvement in the accuracy (87%) but if you observe closely not all unknown words are assigned default 'X' tag as it was for Vanilla Viterbi.\n",
    "\n",
    "Infact few of the words are correctly tagged.\n",
    "\n",
    "e.g: \n",
    "     \n",
    "     impeding - VERB (earlier tagged as X)\n",
    "\n",
    "     seven-yen -NOUN (currency earlier tagged as X)\n",
    "     \n",
    "So few words are correctly tagged and there is slight improvement over the default tagging.\n",
    "\n",
    "Hence this method seems good. Lets check the test set."
   ]
  },
  {
   "cell_type": "code",
   "execution_count": 24,
   "metadata": {},
   "outputs": [
    {
     "name": "stdout",
     "output_type": "stream",
     "text": [
      "Default tag list is:  ['X', 'VERB', 'PRT', 'PRON', 'NUM', 'NOUN', 'DET', 'CONJ', 'ADV', 'ADP', 'ADJ', '.']\n",
      "Number of KNOWN words in this run are: 12097\n",
      "Number of Unknown words in this run are: 49\n",
      "Method used for tagging Unknown Words is: laplace_smoothing\n",
      "Tagged Unknown Words are: \n",
      "('android', 'NOUN')\n",
      "('google', 'DET')\n",
      "('android', 'NOUN')\n",
      "('os', 'NOUN')\n",
      "('worldwide', '.')\n",
      "('smartphones', 'DET')\n",
      "('2011', 'DET')\n",
      "('2013', 'DET')\n",
      "('google', 'NOUN')\n",
      "('twitter', 'NOUN')\n",
      "('2015', 'DET')\n",
      "('google', 'X')\n",
      "('twitter', 'VERB')\n",
      "('firehose', 'VERB')\n",
      "('twitter', 'NOUN')\n",
      "('online', 'NOUN')\n",
      "('interact', 'NOUN')\n",
      "('messages', 'DET')\n",
      "('tweets', 'DET')\n",
      "('donald', 'NOUN')\n",
      "('trump', '.')\n",
      "('domineering', 'NOUN')\n",
      "('personality', '.')\n",
      "('2018', 'NOUN')\n",
      "('fifa', '.')\n",
      "('cup', '.')\n",
      "('21st', 'NOUN')\n",
      "('fifa', '.')\n",
      "('cup', '.')\n",
      "('tournament', '.')\n",
      "('contested', 'NOUN')\n",
      "('cup', '.')\n",
      "('eastern', 'DET')\n",
      "('europe', 'NOUN')\n",
      "('europe', 'DET')\n",
      "('trips', '.')\n",
      "('dallas', 'DET')\n",
      "('atlanta', 'VERB')\n",
      "('i', 'X')\n",
      "('denver', 'DET')\n",
      "('philadelphia', 'VERB')\n",
      "('atlanta', 'X')\n",
      "('arriving', 'NOUN')\n",
      "('san', 'DET')\n",
      "('francisco', 'NOUN')\n",
      "('nasa', 'NOUN')\n",
      "('invited', '.')\n",
      "('icesat-2', 'DET')\n",
      "('satellite', 'NOUN')\n",
      "\n",
      "******* All the words tagged in Test Set are: ********\n",
      "\n",
      "[('android', 'NOUN'), ('is', 'VERB'), ('a', 'DET'), ('mobile', 'ADJ'), ('operating', 'NOUN'), ('system', 'NOUN'), ('developed', 'VERB'), ('by', 'ADP'), ('google', 'DET'), ('.', '.'), ('android', 'NOUN'), ('has', 'VERB'), ('been', 'VERB'), ('the', 'DET'), ('best-selling', 'ADJ'), ('os', 'NOUN'), ('worldwide', '.'), ('on', 'ADP'), ('smartphones', 'DET'), ('since', 'ADP'), ('2011', 'DET'), ('and', 'CONJ'), ('on', 'ADP'), ('tablets', 'NOUN'), ('since', 'ADP'), ('2013', 'DET'), ('.', '.'), ('google', 'NOUN'), ('and', 'CONJ'), ('twitter', 'NOUN'), ('made', 'VERB'), ('a', 'DET'), ('deal', 'NOUN'), ('in', 'ADP'), ('2015', 'DET'), ('that', 'ADP'), ('gave', 'VERB'), ('google', 'X'), ('access', 'NOUN'), ('to', 'PRT'), ('twitter', 'VERB'), (\"'s\", 'PRT'), ('firehose', 'VERB'), ('.', '.'), ('twitter', 'NOUN'), ('is', 'VERB'), ('an', 'DET'), ('online', 'NOUN'), ('news', 'NOUN'), ('and', 'CONJ'), ('social', 'ADJ'), ('networking', 'NOUN'), ('service', 'NOUN'), ('on', 'ADP'), ('which', 'DET'), ('users', 'NOUN'), ('post', 'NOUN'), ('and', 'CONJ'), ('interact', 'NOUN'), ('with', 'ADP'), ('messages', 'DET'), ('known', 'ADJ'), ('as', 'ADP'), ('tweets', 'DET'), ('.', '.'), ('before', 'ADP'), ('entering', 'DET'), ('politics', 'NOUN'), (',', '.'), ('donald', 'NOUN'), ('trump', '.'), ('was', 'VERB'), ('a', 'DET'), ('domineering', 'NOUN'), ('businessman', 'NOUN'), ('and', 'CONJ'), ('a', 'DET'), ('television', 'NOUN'), ('personality', '.'), ('.', '.'), ('the', 'DET'), ('2018', 'NOUN'), ('fifa', '.'), ('world', 'NOUN'), ('cup', '.'), ('is', 'VERB'), ('the', 'DET'), ('21st', 'NOUN'), ('fifa', '.'), ('world', 'NOUN'), ('cup', '.'), (',', '.'), ('an', 'DET'), ('international', 'ADJ'), ('football', 'NOUN'), ('tournament', '.'), ('contested', 'NOUN'), ('once', 'ADV'), ('every', 'DET'), ('four', 'NUM'), ('years', 'NOUN'), ('.', '.'), ('this', 'DET'), ('is', 'VERB'), ('the', 'DET'), ('first', 'ADJ'), ('world', 'NOUN'), ('cup', '.'), ('to', 'PRT'), ('be', 'VERB'), ('held', 'VERB'), ('in', 'ADP'), ('eastern', 'DET'), ('europe', 'NOUN'), ('and', 'CONJ'), ('the', 'DET'), ('11th', 'ADJ'), ('time', 'NOUN'), ('that', 'ADP'), ('it', 'PRON'), ('has', 'VERB'), ('been', 'VERB'), ('held', 'VERB'), ('in', 'ADP'), ('europe', 'DET'), ('.', '.'), ('show', 'NOUN'), ('me', 'PRON'), ('the', 'DET'), ('cheapest', 'ADJ'), ('round', 'NOUN'), ('trips', '.'), ('from', 'ADP'), ('dallas', 'DET'), ('to', 'PRT'), ('atlanta', 'VERB'), ('i', 'X'), ('would', 'VERB'), ('like', 'ADP'), ('to', 'PRT'), ('see', 'VERB'), ('flights', 'NOUN'), ('from', 'ADP'), ('denver', 'DET'), ('to', 'PRT'), ('philadelphia', 'VERB'), ('.', '.'), ('show', 'NOUN'), ('me', 'PRON'), ('the', 'DET'), ('price', 'NOUN'), ('of', 'ADP'), ('the', 'DET'), ('flights', 'NOUN'), ('leaving', 'VERB'), ('atlanta', 'X'), ('at', 'ADP'), ('about', 'ADP'), ('3', 'NUM'), ('in', 'ADP'), ('the', 'DET'), ('afternoon', 'NOUN'), ('and', 'CONJ'), ('arriving', 'NOUN'), ('in', 'ADP'), ('san', 'DET'), ('francisco', 'NOUN'), ('.', '.'), ('nasa', 'NOUN'), ('invited', '.'), ('social', 'ADJ'), ('media', 'NOUN'), ('users', 'NOUN'), ('to', 'PRT'), ('experience', 'NOUN'), ('the', 'DET'), ('launch', 'NOUN'), ('of', 'ADP'), ('icesat-2', 'DET'), ('satellite', 'NOUN'), ('.', '.')]\n",
      "Time taken for execution:  57.82415318489075\n"
     ]
    }
   ],
   "source": [
    "#Check laplace smoothing on test set\n",
    "test_testing(modified_Viterbi,'laplace_smoothing')"
   ]
  },
  {
   "cell_type": "markdown",
   "metadata": {},
   "source": [
    "Also as seen on the test set, most of the NOUN's are correctly tagged using Laplace smoothing as compared to the default Vanilla method where all were tagged as 'X'.\n",
    "\n",
    "e.g:\n",
    "\n",
    "    android - tagged as 'NOUN' (earlier tagged as 'X' by Vanilla)\n",
    "    europe - tagged as 'NOUN' (earlier tagged as 'X' by Vanilla)\n",
    "    donald - tagged as 'NOUN' (earlier tagged as 'X' by Vanilla)\n",
    "    \n",
    " Despite these modifications most of the non-NOUN's (words which are not NOUN) are incorrectly tagged.\n",
    " \n",
    " Still its desirable over Vanilla Viterbi Heuristics where almost all the words were wrongly tagged.\n",
    " \n",
    " Although LAPLACE_SMOOTHING is not completely usuable but still useful over VANILLA VITERBI heuristics.\n",
    "    "
   ]
  },
  {
   "cell_type": "markdown",
   "metadata": {},
   "source": [
    "## Method 2 - Most Probable Tag"
   ]
  },
  {
   "cell_type": "markdown",
   "metadata": {},
   "source": [
    "This method is based on the assumption that the unknown words would belong to the tag-category of the most frequently tagged words in the dataset.\n",
    "\n",
    "This is a valid assumption since the most frequently occuring tags, are more prone to occur again and belong to the unknown words.\n",
    "\n",
    "So in this method we will find the most frequently occurring tag in the dataset and then tag the unknown words with that tag."
   ]
  },
  {
   "cell_type": "code",
   "execution_count": 25,
   "metadata": {},
   "outputs": [],
   "source": [
    "#This function extracts the most frequently occuring tag in dataset\n",
    "#And assigns the unknown word with that tag.\n",
    "#This function takes the train dataset as i/p\n",
    "def frequency_based_tagging(train_bag=train_tagged_words):\n",
    "    #Extract tags\n",
    "    tags = [tag for (word, tag) in train_bag]\n",
    "    \n",
    "    #Find most frequently occuring tag and return it to tag unknown word.\n",
    "    predicted_tag = nltk.FreqDist(tags).max()\n",
    "        \n",
    "    return predicted_tag   \n",
    "    "
   ]
  },
  {
   "cell_type": "markdown",
   "metadata": {},
   "source": [
    "Now lets check this modified method on Validation and Test set"
   ]
  },
  {
   "cell_type": "code",
   "execution_count": 26,
   "metadata": {},
   "outputs": [
    {
     "name": "stdout",
     "output_type": "stream",
     "text": [
      "Default tag list is:  ['X', 'VERB', 'PRT', 'PRON', 'NUM', 'NOUN', 'DET', 'CONJ', 'ADV', 'ADP', 'ADJ', '.']\n",
      "Number of KNOWN words in this run are: 12097\n",
      "Number of Unknown words in this run are: 10\n",
      "Method used for tagging Unknown Words is: frequency_based_tagging\n",
      "Tagged Unknown Words are: \n",
      "('seven-yen', 'NOUN')\n",
      "('pledged', 'NOUN')\n",
      "('modernization', 'NOUN')\n",
      "('impeding', 'NOUN')\n",
      "('*T*-117', 'NOUN')\n",
      "('Jennison', 'NOUN')\n",
      "('7.79', 'NOUN')\n",
      "('7.52', 'NOUN')\n",
      "('7.60', 'NOUN')\n",
      "('suddenly', 'NOUN')\n",
      "Time taken for execution in validation run:  17.960902214050293\n",
      "Accuarcy of prediction in Validation set is 88% \n"
     ]
    }
   ],
   "source": [
    "#Check the Frequency based method on Validation set\n",
    "validation_testing(modified_Viterbi,'frequency_based_tagging')"
   ]
  },
  {
   "cell_type": "markdown",
   "metadata": {},
   "source": [
    "As we can see that the accuracy is jumped up to **88%** which is imporvemnet over previous methods used.\n",
    "\n",
    "Since **NOUN** is the most frequent tag in the dataset also observed in the pie-chart earlier this gets assigned to all the unknown words. This is similar to the Vanilla Viterbi but the only difference is instead of random assignement we are assigning the tags based on assumption that most frequently occurring tags are more likely to be tagged for unknown words.\n",
    "\n",
    "There are few words thats are correctlt tagged as per this assumption:\n",
    "    \n",
    "        Jennison: tagged as NOUN (ealier tagged as 'X' by Vanilla and '.' by laplace)\n",
    "        \n",
    "        seven-yen: tagged as NOUN (earlier tagged as 'X' by Vanilla although laplace tagged it correctly)\n",
    "        \n",
    "        *T*-117: tagged as NOUN seems correct since this might be name of flight (wrongly tagged by both Vanilla and Laplace)"
   ]
  },
  {
   "cell_type": "code",
   "execution_count": 27,
   "metadata": {},
   "outputs": [
    {
     "name": "stdout",
     "output_type": "stream",
     "text": [
      "Default tag list is:  ['X', 'VERB', 'PRT', 'PRON', 'NUM', 'NOUN', 'DET', 'CONJ', 'ADV', 'ADP', 'ADJ', '.']\n",
      "Number of KNOWN words in this run are: 12097\n",
      "Number of Unknown words in this run are: 49\n",
      "Method used for tagging Unknown Words is: frequency_based_tagging\n",
      "Tagged Unknown Words are: \n",
      "('android', 'NOUN')\n",
      "('google', 'NOUN')\n",
      "('android', 'NOUN')\n",
      "('os', 'NOUN')\n",
      "('worldwide', 'NOUN')\n",
      "('smartphones', 'NOUN')\n",
      "('2011', 'NOUN')\n",
      "('2013', 'NOUN')\n",
      "('google', 'NOUN')\n",
      "('twitter', 'NOUN')\n",
      "('2015', 'NOUN')\n",
      "('google', 'NOUN')\n",
      "('twitter', 'NOUN')\n",
      "('firehose', 'NOUN')\n",
      "('twitter', 'NOUN')\n",
      "('online', 'NOUN')\n",
      "('interact', 'NOUN')\n",
      "('messages', 'NOUN')\n",
      "('tweets', 'NOUN')\n",
      "('donald', 'NOUN')\n",
      "('trump', 'NOUN')\n",
      "('domineering', 'NOUN')\n",
      "('personality', 'NOUN')\n",
      "('2018', 'NOUN')\n",
      "('fifa', 'NOUN')\n",
      "('cup', 'NOUN')\n",
      "('21st', 'NOUN')\n",
      "('fifa', 'NOUN')\n",
      "('cup', 'NOUN')\n",
      "('tournament', 'NOUN')\n",
      "('contested', 'NOUN')\n",
      "('cup', 'NOUN')\n",
      "('eastern', 'NOUN')\n",
      "('europe', 'NOUN')\n",
      "('europe', 'NOUN')\n",
      "('trips', 'NOUN')\n",
      "('dallas', 'NOUN')\n",
      "('atlanta', 'NOUN')\n",
      "('i', 'NOUN')\n",
      "('denver', 'NOUN')\n",
      "('philadelphia', 'NOUN')\n",
      "('atlanta', 'NOUN')\n",
      "('arriving', 'NOUN')\n",
      "('san', 'NOUN')\n",
      "('francisco', 'NOUN')\n",
      "('nasa', 'NOUN')\n",
      "('invited', 'NOUN')\n",
      "('icesat-2', 'NOUN')\n",
      "('satellite', 'NOUN')\n",
      "\n",
      "******* All the words tagged in Test Set are: ********\n",
      "\n",
      "[('android', 'NOUN'), ('is', 'VERB'), ('a', 'DET'), ('mobile', 'ADJ'), ('operating', 'NOUN'), ('system', 'NOUN'), ('developed', 'VERB'), ('by', 'ADP'), ('google', 'NOUN'), ('.', '.'), ('android', 'NOUN'), ('has', 'VERB'), ('been', 'VERB'), ('the', 'DET'), ('best-selling', 'ADJ'), ('os', 'NOUN'), ('worldwide', 'NOUN'), ('on', 'ADP'), ('smartphones', 'NOUN'), ('since', 'ADP'), ('2011', 'NOUN'), ('and', 'CONJ'), ('on', 'ADP'), ('tablets', 'NOUN'), ('since', 'ADP'), ('2013', 'NOUN'), ('.', '.'), ('google', 'NOUN'), ('and', 'CONJ'), ('twitter', 'NOUN'), ('made', 'VERB'), ('a', 'DET'), ('deal', 'NOUN'), ('in', 'ADP'), ('2015', 'NOUN'), ('that', 'ADP'), ('gave', 'VERB'), ('google', 'NOUN'), ('access', 'NOUN'), ('to', 'PRT'), ('twitter', 'NOUN'), (\"'s\", 'PRT'), ('firehose', 'NOUN'), ('.', '.'), ('twitter', 'NOUN'), ('is', 'VERB'), ('an', 'DET'), ('online', 'NOUN'), ('news', 'NOUN'), ('and', 'CONJ'), ('social', 'ADJ'), ('networking', 'NOUN'), ('service', 'NOUN'), ('on', 'ADP'), ('which', 'DET'), ('users', 'NOUN'), ('post', 'NOUN'), ('and', 'CONJ'), ('interact', 'NOUN'), ('with', 'ADP'), ('messages', 'NOUN'), ('known', 'VERB'), ('as', 'ADP'), ('tweets', 'NOUN'), ('.', '.'), ('before', 'ADP'), ('entering', 'VERB'), ('politics', 'NOUN'), (',', '.'), ('donald', 'NOUN'), ('trump', 'NOUN'), ('was', 'VERB'), ('a', 'DET'), ('domineering', 'NOUN'), ('businessman', 'NOUN'), ('and', 'CONJ'), ('a', 'DET'), ('television', 'NOUN'), ('personality', 'NOUN'), ('.', '.'), ('the', 'DET'), ('2018', 'NOUN'), ('fifa', 'NOUN'), ('world', 'NOUN'), ('cup', 'NOUN'), ('is', 'VERB'), ('the', 'DET'), ('21st', 'NOUN'), ('fifa', 'NOUN'), ('world', 'NOUN'), ('cup', 'NOUN'), (',', '.'), ('an', 'DET'), ('international', 'ADJ'), ('football', 'NOUN'), ('tournament', 'NOUN'), ('contested', 'NOUN'), ('once', 'ADV'), ('every', 'DET'), ('four', 'NUM'), ('years', 'NOUN'), ('.', '.'), ('this', 'DET'), ('is', 'VERB'), ('the', 'DET'), ('first', 'ADJ'), ('world', 'NOUN'), ('cup', 'NOUN'), ('to', 'PRT'), ('be', 'VERB'), ('held', 'VERB'), ('in', 'ADP'), ('eastern', 'NOUN'), ('europe', 'NOUN'), ('and', 'CONJ'), ('the', 'DET'), ('11th', 'ADJ'), ('time', 'NOUN'), ('that', 'ADP'), ('it', 'PRON'), ('has', 'VERB'), ('been', 'VERB'), ('held', 'VERB'), ('in', 'ADP'), ('europe', 'NOUN'), ('.', '.'), ('show', 'NOUN'), ('me', 'PRON'), ('the', 'DET'), ('cheapest', 'ADJ'), ('round', 'NOUN'), ('trips', 'NOUN'), ('from', 'ADP'), ('dallas', 'NOUN'), ('to', 'PRT'), ('atlanta', 'NOUN'), ('i', 'NOUN'), ('would', 'VERB'), ('like', 'ADP'), ('to', 'PRT'), ('see', 'VERB'), ('flights', 'NOUN'), ('from', 'ADP'), ('denver', 'NOUN'), ('to', 'PRT'), ('philadelphia', 'NOUN'), ('.', '.'), ('show', 'NOUN'), ('me', 'PRON'), ('the', 'DET'), ('price', 'NOUN'), ('of', 'ADP'), ('the', 'DET'), ('flights', 'NOUN'), ('leaving', 'VERB'), ('atlanta', 'NOUN'), ('at', 'ADP'), ('about', 'ADP'), ('3', 'NUM'), ('in', 'ADP'), ('the', 'DET'), ('afternoon', 'NOUN'), ('and', 'CONJ'), ('arriving', 'NOUN'), ('in', 'ADP'), ('san', 'NOUN'), ('francisco', 'NOUN'), ('.', '.'), ('nasa', 'NOUN'), ('invited', 'NOUN'), ('social', 'ADJ'), ('media', 'NOUN'), ('users', 'NOUN'), ('to', 'PRT'), ('experience', 'NOUN'), ('the', 'DET'), ('launch', 'NOUN'), ('of', 'ADP'), ('icesat-2', 'NOUN'), ('satellite', 'NOUN'), ('.', '.')]\n",
      "Time taken for execution:  31.724048852920532\n"
     ]
    }
   ],
   "source": [
    "#testing the frequency based method on test set\n",
    "test_testing(modified_Viterbi,'frequency_based_tagging')"
   ]
  },
  {
   "cell_type": "markdown",
   "metadata": {},
   "source": [
    "As said earlier NOUN seems to be the most frequent tag in dataset and hence all the unknown words are assigned this tag. But seems valid for this test set since most of the unknown words here belong to this category.\n",
    "\n",
    "e.g:\n",
    "\n",
    "        Twitter - correctly tagged as NOUN (earlier tagged as 'X' by Vanilla)\n",
    "        Google  - correctly tagged as NOUN (earlier tagged as 'X' by Vanilla)\n",
    "        dallas  - correctly tagged as NOUN (earlier tagged as 'X' by Vanilla)\n",
    "        \n",
    " These words were wrongly tagged earlier  by both the methods.\n",
    " Seems this method is also useful over Vanilla Viterbi for tagging unknown words."
   ]
  },
  {
   "cell_type": "markdown",
   "metadata": {},
   "source": [
    "## Method 3: Rule Based Tagging"
   ]
  },
  {
   "cell_type": "markdown",
   "metadata": {},
   "source": [
    "This method is based on assumption that the words follow certain morphological rules and we will exploit those rules to tag the unknown words.\n",
    "\n",
    "Rules such as:\n",
    "\n",
    "1) If words contain digits tag them as NUM \n",
    "\n",
    "2) If words are 'the,an,a,.....' etc tag them as DET\n",
    "\n",
    "3) If certain words end with 'able,sive,tion' tag them as ADJ (e.g: abor**able** , expen**sive** , modernisa**tion**)\n",
    "\n",
    "4) If certain words end with 'ly' tag them as ADV (e.g: ear**ly**)\n",
    "\n",
    "5) If certain words end with 'ing,ed'ould' or are words like 'am,is,are,.....etc' tag them as VERB (e.g: runn**ing**)\n",
    "\n",
    "6) If certain words end with 'ness,s' or any other words tag it default to NOUN (e.g: cleanli**ness**, dog**s**)\n",
    "\n",
    "The 6th observation above is also based on fact that NOUN is most frequently observed tag in the dataset and using this assumption definitely increased the accuracy as seen earlier in frequency based tagger over Vanilla Viterbi, so we tag the default words as NOUN if none of the rules are satisfied."
   ]
  },
  {
   "cell_type": "code",
   "execution_count": 28,
   "metadata": {},
   "outputs": [],
   "source": [
    "#Rule based taggers\n",
    "def rule_tagger(words,train_bag=train_set):\n",
    "    words = [words]\n",
    "    #Define the rules\n",
    "    rule_tagger = nltk.RegexpTagger(\n",
    "            [(r'.*-?[0-9]+(.[0-9]+)?$', 'NUM'),                     # cardinal numbers\n",
    "             (r'(The|the|A|a|An|an)$', 'DET'),                      # articles\n",
    "             (r'.*able$|.*sive$|.*tion$', 'ADJ'),                   # adjectives \n",
    "             (r'.*ly$', 'ADV'),                                     # adverbs\n",
    "             (r'.*ing$|.*ed$|.*ould$', 'VERB'),                     # verbs\n",
    "             (r'(am|is|was|are|were|be|been|has|have|had)','VERB'), #verbs\n",
    "             (r'.*ness$|.*s$|.*|.*\\'s$|.*s$', 'NOUN')               # nouns formed from adjectives/plural nouns         \n",
    "            ])\n",
    "\n",
    "    #return the predicted tag and assign it to unknown word.\n",
    "    predicted_tag = rule_tagger.tag(words)[0][1]\n",
    "    return predicted_tag"
   ]
  },
  {
   "cell_type": "code",
   "execution_count": 29,
   "metadata": {},
   "outputs": [
    {
     "name": "stdout",
     "output_type": "stream",
     "text": [
      "Default tag list is:  ['X', 'VERB', 'PRT', 'PRON', 'NUM', 'NOUN', 'DET', 'CONJ', 'ADV', 'ADP', 'ADJ', '.']\n",
      "Number of KNOWN words in this run are: 12097\n",
      "Number of Unknown words in this run are: 10\n",
      "Method used for tagging Unknown Words is: rule_tagger\n",
      "Tagged Unknown Words are: \n",
      "('seven-yen', 'NOUN')\n",
      "('pledged', 'VERB')\n",
      "('modernization', 'ADJ')\n",
      "('impeding', 'VERB')\n",
      "('*T*-117', 'NUM')\n",
      "('Jennison', 'NOUN')\n",
      "('7.79', 'NUM')\n",
      "('7.52', 'NUM')\n",
      "('7.60', 'NUM')\n",
      "('suddenly', 'ADV')\n",
      "Time taken for execution in validation run:  14.297714948654175\n",
      "Accuarcy of prediction in Validation set is 92% \n"
     ]
    }
   ],
   "source": [
    "#Test the Rule based tagger on Validation Set\n",
    "validation_testing(modified_Viterbi,'rule_tagger')"
   ]
  },
  {
   "cell_type": "markdown",
   "metadata": {},
   "source": [
    "The accuracy seems to have been jumped from 88% to 92% which is a big leap. So Rule based tagger becomes most accurate among all the methods discussed until now.\n",
    "\n",
    "As we can see words like:\n",
    "    \n",
    "        7.79,7,52,7.60 are now accurately assigned NUM tag (earlier tagged as 'X' by Vanilla)\n",
    "        \n",
    "        modernization is correctly assigned ADJ (earlier tagged as 'X' by Vanilla)\n",
    "        \n",
    "        suddenly is correctly assigned ADV (earlier tagged as 'X' by Vanilla)"
   ]
  },
  {
   "cell_type": "code",
   "execution_count": 30,
   "metadata": {},
   "outputs": [
    {
     "name": "stdout",
     "output_type": "stream",
     "text": [
      "Default tag list is:  ['X', 'VERB', 'PRT', 'PRON', 'NUM', 'NOUN', 'DET', 'CONJ', 'ADV', 'ADP', 'ADJ', '.']\n",
      "Number of KNOWN words in this run are: 12097\n",
      "Number of Unknown words in this run are: 49\n",
      "Method used for tagging Unknown Words is: rule_tagger\n",
      "Tagged Unknown Words are: \n",
      "('android', 'NOUN')\n",
      "('google', 'NOUN')\n",
      "('android', 'NOUN')\n",
      "('os', 'NOUN')\n",
      "('worldwide', 'NOUN')\n",
      "('smartphones', 'NOUN')\n",
      "('2011', 'NUM')\n",
      "('2013', 'NUM')\n",
      "('google', 'NOUN')\n",
      "('twitter', 'NOUN')\n",
      "('2015', 'NUM')\n",
      "('google', 'NOUN')\n",
      "('twitter', 'NOUN')\n",
      "('firehose', 'NOUN')\n",
      "('twitter', 'NOUN')\n",
      "('online', 'NOUN')\n",
      "('interact', 'NOUN')\n",
      "('messages', 'NOUN')\n",
      "('tweets', 'NOUN')\n",
      "('donald', 'NOUN')\n",
      "('trump', 'NOUN')\n",
      "('domineering', 'VERB')\n",
      "('personality', 'NOUN')\n",
      "('2018', 'NUM')\n",
      "('fifa', 'NOUN')\n",
      "('cup', 'NOUN')\n",
      "('21st', 'NOUN')\n",
      "('fifa', 'NOUN')\n",
      "('cup', 'NOUN')\n",
      "('tournament', 'NOUN')\n",
      "('contested', 'VERB')\n",
      "('cup', 'NOUN')\n",
      "('eastern', 'NOUN')\n",
      "('europe', 'NOUN')\n",
      "('europe', 'NOUN')\n",
      "('trips', 'NOUN')\n",
      "('dallas', 'NOUN')\n",
      "('atlanta', 'NOUN')\n",
      "('i', 'NOUN')\n",
      "('denver', 'NOUN')\n",
      "('philadelphia', 'NOUN')\n",
      "('atlanta', 'NOUN')\n",
      "('arriving', 'VERB')\n",
      "('san', 'NOUN')\n",
      "('francisco', 'NOUN')\n",
      "('nasa', 'NOUN')\n",
      "('invited', 'VERB')\n",
      "('icesat-2', 'NUM')\n",
      "('satellite', 'NOUN')\n",
      "\n",
      "******* All the words tagged in Test Set are: ********\n",
      "\n",
      "[('android', 'NOUN'), ('is', 'VERB'), ('a', 'DET'), ('mobile', 'ADJ'), ('operating', 'NOUN'), ('system', 'NOUN'), ('developed', 'VERB'), ('by', 'ADP'), ('google', 'NOUN'), ('.', '.'), ('android', 'NOUN'), ('has', 'VERB'), ('been', 'VERB'), ('the', 'DET'), ('best-selling', 'ADJ'), ('os', 'NOUN'), ('worldwide', 'NOUN'), ('on', 'ADP'), ('smartphones', 'NOUN'), ('since', 'ADP'), ('2011', 'NUM'), ('and', 'CONJ'), ('on', 'ADP'), ('tablets', 'NOUN'), ('since', 'ADP'), ('2013', 'NUM'), ('.', '.'), ('google', 'NOUN'), ('and', 'CONJ'), ('twitter', 'NOUN'), ('made', 'VERB'), ('a', 'DET'), ('deal', 'NOUN'), ('in', 'ADP'), ('2015', 'NUM'), ('that', 'ADP'), ('gave', 'VERB'), ('google', 'NOUN'), ('access', 'NOUN'), ('to', 'PRT'), ('twitter', 'NOUN'), (\"'s\", 'PRT'), ('firehose', 'NOUN'), ('.', '.'), ('twitter', 'NOUN'), ('is', 'VERB'), ('an', 'DET'), ('online', 'NOUN'), ('news', 'NOUN'), ('and', 'CONJ'), ('social', 'ADJ'), ('networking', 'NOUN'), ('service', 'NOUN'), ('on', 'ADP'), ('which', 'DET'), ('users', 'NOUN'), ('post', 'NOUN'), ('and', 'CONJ'), ('interact', 'NOUN'), ('with', 'ADP'), ('messages', 'NOUN'), ('known', 'VERB'), ('as', 'ADP'), ('tweets', 'NOUN'), ('.', '.'), ('before', 'ADP'), ('entering', 'VERB'), ('politics', 'NOUN'), (',', '.'), ('donald', 'NOUN'), ('trump', 'NOUN'), ('was', 'VERB'), ('a', 'DET'), ('domineering', 'VERB'), ('businessman', 'NOUN'), ('and', 'CONJ'), ('a', 'DET'), ('television', 'NOUN'), ('personality', 'NOUN'), ('.', '.'), ('the', 'DET'), ('2018', 'NUM'), ('fifa', 'NOUN'), ('world', 'NOUN'), ('cup', 'NOUN'), ('is', 'VERB'), ('the', 'DET'), ('21st', 'NOUN'), ('fifa', 'NOUN'), ('world', 'NOUN'), ('cup', 'NOUN'), (',', '.'), ('an', 'DET'), ('international', 'ADJ'), ('football', 'NOUN'), ('tournament', 'NOUN'), ('contested', 'VERB'), ('once', 'ADV'), ('every', 'DET'), ('four', 'NUM'), ('years', 'NOUN'), ('.', '.'), ('this', 'DET'), ('is', 'VERB'), ('the', 'DET'), ('first', 'ADJ'), ('world', 'NOUN'), ('cup', 'NOUN'), ('to', 'PRT'), ('be', 'VERB'), ('held', 'VERB'), ('in', 'ADP'), ('eastern', 'NOUN'), ('europe', 'NOUN'), ('and', 'CONJ'), ('the', 'DET'), ('11th', 'ADJ'), ('time', 'NOUN'), ('that', 'ADP'), ('it', 'PRON'), ('has', 'VERB'), ('been', 'VERB'), ('held', 'VERB'), ('in', 'ADP'), ('europe', 'NOUN'), ('.', '.'), ('show', 'NOUN'), ('me', 'PRON'), ('the', 'DET'), ('cheapest', 'ADJ'), ('round', 'NOUN'), ('trips', 'NOUN'), ('from', 'ADP'), ('dallas', 'NOUN'), ('to', 'PRT'), ('atlanta', 'NOUN'), ('i', 'NOUN'), ('would', 'VERB'), ('like', 'ADP'), ('to', 'PRT'), ('see', 'VERB'), ('flights', 'NOUN'), ('from', 'ADP'), ('denver', 'NOUN'), ('to', 'PRT'), ('philadelphia', 'NOUN'), ('.', '.'), ('show', 'NOUN'), ('me', 'PRON'), ('the', 'DET'), ('price', 'NOUN'), ('of', 'ADP'), ('the', 'DET'), ('flights', 'NOUN'), ('leaving', 'VERB'), ('atlanta', 'NOUN'), ('at', 'ADP'), ('about', 'ADP'), ('3', 'NUM'), ('in', 'ADP'), ('the', 'DET'), ('afternoon', 'NOUN'), ('and', 'CONJ'), ('arriving', 'VERB'), ('in', 'ADP'), ('san', 'NOUN'), ('francisco', 'NOUN'), ('.', '.'), ('nasa', 'NOUN'), ('invited', 'VERB'), ('social', 'ADJ'), ('media', 'NOUN'), ('users', 'NOUN'), ('to', 'PRT'), ('experience', 'NOUN'), ('the', 'DET'), ('launch', 'NOUN'), ('of', 'ADP'), ('icesat-2', 'NUM'), ('satellite', 'NOUN'), ('.', '.')]\n",
      "Time taken for execution:  26.557881116867065\n"
     ]
    }
   ],
   "source": [
    "#Test rule based tagger on Test set\n",
    "test_testing(modified_Viterbi,'rule_tagger')"
   ]
  },
  {
   "cell_type": "markdown",
   "metadata": {},
   "source": [
    "On the test set most of the tags are accurately assigned.\n",
    "\n",
    "e.g:\n",
    "\n",
    "        invited - tagged as VERB (earlier tagged as 'X' by Vanilla)\n",
    "        arriving -  tagged as VERB (earlier tagged as 'X' by Vanilla)\n",
    "        San Francisco  - tagged as NOUN (earlier tagged as 'X' by Vanilla)\n",
    "        \n",
    "Seems rule based method is working just perfectly for our use case.\n",
    "\n",
    "Though this method seems to be useful but maintaining the \"rules database\" is somewhat not feasible.\n",
    "\n",
    "There got to be some workaround this."
   ]
  },
  {
   "cell_type": "markdown",
   "metadata": {},
   "source": [
    "# Method 4 - N-Gram POS Tagger"
   ]
  },
  {
   "cell_type": "markdown",
   "metadata": {},
   "source": [
    "Though Rule Based tagging as described above seemed to increase the accuracy of tagging, maintaining the \"rules database\" is somewhat not feasible.\n",
    "\n",
    "How about instead on hand coding the rules, the tagger inturn takes into consideration words/tags position and sequence into consideration and tags the unknown words accordingly.\n",
    "\n",
    "This is what is done in this method: ngram tagging.\n",
    "\n",
    "In ngram tagging, we use backoff pipeline method and 3 different gram models for testing.\n",
    "\n",
    "1) unigram method: For determining the part of speech tag, it only uses a context of single word. This is equivalent to the lexical based tagging where the word is looked up into the dataset and if matching words is found the tag assigned to word in the dataset is assigned to the unknown word.\n",
    "\n",
    "2) bigram method: bigram uses 2 words rather than single word as used in unigram. It basically uses the previous word to derive the context. By looking at the previous words and its part-of-speech, tag for the current word can be guessed.\n",
    "\n",
    "3) trigram method: Similar to bigram but it uses considers 3 words: current and 2 previous words and their Part-of-speech for guessing the POS tag for the current word.\n",
    "\n",
    "Similary, ngram  a subsequence of n items. But for now we will only consider upto 3 items or trigrams only.\n",
    "\n",
    "The basic idea of NgramTagger is :\n",
    "\n",
    "     -> By looking at the previous words and P-O-S tags, part-of-speech tag for the current word can be guessed.\n",
    "    \n",
    "     -> Each tagger maintains a context dictionary (ContextTagger parent class is used to implement it).\n",
    "    \n",
    "     -> This dictionary is used to guess that tag based on the context.\n",
    "     \n",
    "     -> The context is some number of previous tagged words in the case of NgramTagger.\n",
    "     \n",
    "In this method we will start with Trigram tagger and fall back to Bigram in case the word is still not tagged.\n",
    "If even bigram is not able to tag it we will fall back to unigram and even if unigram is not able to tag it we will fall back to rule base tagger as default as defined above since we have proven that it works well for our use cases.\n",
    "\n",
    "By default we will use bigram since in our testing we found that there isnt much difference in accuracy for bigram and trigram taggers and bigram tagging has less time complexity as compared to trigram.\n",
    "\n",
    "This can we easily modified based on i/p parameter n.\n",
    "\n",
    "For now we will use n=2 i.e: Bigram model"
   ]
  },
  {
   "cell_type": "code",
   "execution_count": 31,
   "metadata": {},
   "outputs": [],
   "source": [
    "#Define the ngram function\n",
    "#i/p: word to be tagged, n-uni/bi/tri gram based on value passed\n",
    "def ngram_Tagger(words,n=2, train_sents=train_set, train_bag=train_tagged_words): \n",
    "    #Use rule base tagger as default tagger\n",
    "    defaultTag = rule_tagger(words)\n",
    "    #print(defaultTag)\n",
    "\n",
    "    t0 = nltk.DefaultTagger(defaultTag)\n",
    "    \n",
    "    if (n <= 0):\n",
    "        return t0\n",
    "    #Unigram tagger fall back to default\n",
    "    elif (n == 1):\n",
    "        t1 = nltk.UnigramTagger(train_sents, backoff=t0)\n",
    "        predicted_tag = t1.tag(words)[0][1]\n",
    "        return predicted_tag\n",
    "    #Bigram Tagger fall back to Unigram\n",
    "    elif (n == 2):\n",
    "        t1 = nltk.UnigramTagger(train_sents, backoff=t0)\n",
    "        t2 = nltk.BigramTagger(train_sents, backoff=t1)\n",
    "        predicted_tag = t2.tag(words)[0][1]\n",
    "        return predicted_tag\n",
    "    #trigram fallback to bigram\n",
    "    else:\n",
    "        t1 = nltk.UnigramTagger(train_sents, backoff=t0)\n",
    "        t2 = nltk.BigramTagger(train_sents, backoff=t1)\n",
    "        t3 = nltk.TrigramTagger(train_sents, backoff=t2)\n",
    "        predicted_tag = t3.tag(words)[0][1]\n",
    "        return predicted_tag\n"
   ]
  },
  {
   "cell_type": "markdown",
   "metadata": {},
   "source": [
    "**Note:** Since this method combines 3 methods execution takes time. Patience Please!!!!! :)"
   ]
  },
  {
   "cell_type": "code",
   "execution_count": 32,
   "metadata": {},
   "outputs": [
    {
     "name": "stdout",
     "output_type": "stream",
     "text": [
      "Default tag list is:  ['X', 'VERB', 'PRT', 'PRON', 'NUM', 'NOUN', 'DET', 'CONJ', 'ADV', 'ADP', 'ADJ', '.']\n",
      "Number of KNOWN words in this run are: 12097\n",
      "Number of Unknown words in this run are: 10\n",
      "Method used for tagging Unknown Words is: ngram_Tagger\n",
      "Tagged Unknown Words are: \n",
      "('seven-yen', 'NOUN')\n",
      "('pledged', 'VERB')\n",
      "('modernization', 'ADJ')\n",
      "('impeding', 'VERB')\n",
      "('*T*-117', 'X')\n",
      "('Jennison', 'NOUN')\n",
      "('7.79', 'NUM')\n",
      "('7.52', 'NUM')\n",
      "('7.60', 'NUM')\n",
      "('suddenly', 'ADV')\n",
      "Time taken for execution in validation run:  27.013694286346436\n",
      "Accuarcy of prediction in Validation set is 93% \n"
     ]
    }
   ],
   "source": [
    "#test ngram tagger on validation set\n",
    "validation_testing(modified_Viterbi,'ngram_Tagger')"
   ]
  },
  {
   "cell_type": "markdown",
   "metadata": {},
   "source": [
    "As seen from the above run with combination of bigram-unigram-rule-based tagger we are getting tagging accuracy to be 93% which is highest among all the methods discussed above.\n",
    "\n",
    "As seen from above result almost all the unknown words are sort of correctly tagged.\n",
    "e.g:\n",
    "\n",
    "    pledged - correctly tagged as VERB (earlier tagged as 'X' by Vanilla)\n",
    "    Jennison - correctly tagged as NOUN (earlier tagged as 'X' by Vanilla)\n",
    "    suddenly - correctly tagged as ADV (earlier tagged as 'X' by Vanilla)\n",
    "    \n",
    " Now lets check the test set."
   ]
  },
  {
   "cell_type": "code",
   "execution_count": 33,
   "metadata": {},
   "outputs": [
    {
     "name": "stdout",
     "output_type": "stream",
     "text": [
      "Default tag list is:  ['X', 'VERB', 'PRT', 'PRON', 'NUM', 'NOUN', 'DET', 'CONJ', 'ADV', 'ADP', 'ADJ', '.']\n",
      "Number of KNOWN words in this run are: 12097\n",
      "Number of Unknown words in this run are: 49\n",
      "Method used for tagging Unknown Words is: ngram_Tagger\n",
      "Tagged Unknown Words are: \n",
      "('android', 'X')\n",
      "('google', 'NOUN')\n",
      "('android', 'X')\n",
      "('os', 'NOUN')\n",
      "('worldwide', 'NOUN')\n",
      "('smartphones', 'NOUN')\n",
      "('2011', 'X')\n",
      "('2013', 'X')\n",
      "('google', 'NOUN')\n",
      "('twitter', 'NOUN')\n",
      "('2015', 'X')\n",
      "('google', 'NOUN')\n",
      "('twitter', 'NOUN')\n",
      "('firehose', 'NOUN')\n",
      "('twitter', 'NOUN')\n",
      "('online', 'NOUN')\n",
      "('interact', 'NOUN')\n",
      "('messages', 'NOUN')\n",
      "('tweets', 'NOUN')\n",
      "('donald', 'NOUN')\n",
      "('trump', 'NOUN')\n",
      "('domineering', 'VERB')\n",
      "('personality', 'NOUN')\n",
      "('2018', 'X')\n",
      "('fifa', 'NOUN')\n",
      "('cup', 'NOUN')\n",
      "('21st', 'X')\n",
      "('fifa', 'NOUN')\n",
      "('cup', 'NOUN')\n",
      "('tournament', 'NOUN')\n",
      "('contested', 'VERB')\n",
      "('cup', 'NOUN')\n",
      "('eastern', 'NOUN')\n",
      "('europe', 'NOUN')\n",
      "('europe', 'NOUN')\n",
      "('trips', 'NOUN')\n",
      "('dallas', 'NOUN')\n",
      "('atlanta', 'X')\n",
      "('i', 'NOUN')\n",
      "('denver', 'NOUN')\n",
      "('philadelphia', 'NOUN')\n",
      "('atlanta', 'X')\n",
      "('arriving', 'X')\n",
      "('san', 'NOUN')\n",
      "('francisco', 'NOUN')\n",
      "('nasa', 'NOUN')\n",
      "('invited', 'VERB')\n",
      "('icesat-2', 'NUM')\n",
      "('satellite', 'NOUN')\n",
      "\n",
      "******* All the words tagged in Test Set are: ********\n",
      "\n",
      "[('android', 'X'), ('is', 'VERB'), ('a', 'DET'), ('mobile', 'ADJ'), ('operating', 'NOUN'), ('system', 'NOUN'), ('developed', 'VERB'), ('by', 'ADP'), ('google', 'NOUN'), ('.', '.'), ('android', 'X'), ('has', 'VERB'), ('been', 'VERB'), ('the', 'DET'), ('best-selling', 'ADJ'), ('os', 'NOUN'), ('worldwide', 'NOUN'), ('on', 'ADP'), ('smartphones', 'NOUN'), ('since', 'ADP'), ('2011', 'X'), ('and', 'CONJ'), ('on', 'ADP'), ('tablets', 'NOUN'), ('since', 'ADP'), ('2013', 'X'), ('.', '.'), ('google', 'NOUN'), ('and', 'CONJ'), ('twitter', 'NOUN'), ('made', 'VERB'), ('a', 'DET'), ('deal', 'NOUN'), ('in', 'ADP'), ('2015', 'X'), ('that', 'ADP'), ('gave', 'VERB'), ('google', 'NOUN'), ('access', 'NOUN'), ('to', 'PRT'), ('twitter', 'NOUN'), (\"'s\", 'PRT'), ('firehose', 'NOUN'), ('.', '.'), ('twitter', 'NOUN'), ('is', 'VERB'), ('an', 'DET'), ('online', 'NOUN'), ('news', 'NOUN'), ('and', 'CONJ'), ('social', 'ADJ'), ('networking', 'NOUN'), ('service', 'NOUN'), ('on', 'ADP'), ('which', 'DET'), ('users', 'NOUN'), ('post', 'NOUN'), ('and', 'CONJ'), ('interact', 'NOUN'), ('with', 'ADP'), ('messages', 'NOUN'), ('known', 'VERB'), ('as', 'ADP'), ('tweets', 'NOUN'), ('.', '.'), ('before', 'ADP'), ('entering', 'VERB'), ('politics', 'NOUN'), (',', '.'), ('donald', 'NOUN'), ('trump', 'NOUN'), ('was', 'VERB'), ('a', 'DET'), ('domineering', 'VERB'), ('businessman', 'NOUN'), ('and', 'CONJ'), ('a', 'DET'), ('television', 'NOUN'), ('personality', 'NOUN'), ('.', '.'), ('the', 'DET'), ('2018', 'X'), ('fifa', 'NOUN'), ('world', 'NOUN'), ('cup', 'NOUN'), ('is', 'VERB'), ('the', 'DET'), ('21st', 'X'), ('fifa', 'NOUN'), ('world', 'NOUN'), ('cup', 'NOUN'), (',', '.'), ('an', 'DET'), ('international', 'ADJ'), ('football', 'NOUN'), ('tournament', 'NOUN'), ('contested', 'VERB'), ('once', 'ADV'), ('every', 'DET'), ('four', 'NUM'), ('years', 'NOUN'), ('.', '.'), ('this', 'DET'), ('is', 'VERB'), ('the', 'DET'), ('first', 'ADJ'), ('world', 'NOUN'), ('cup', 'NOUN'), ('to', 'PRT'), ('be', 'VERB'), ('held', 'VERB'), ('in', 'ADP'), ('eastern', 'NOUN'), ('europe', 'NOUN'), ('and', 'CONJ'), ('the', 'DET'), ('11th', 'ADJ'), ('time', 'NOUN'), ('that', 'ADP'), ('it', 'PRON'), ('has', 'VERB'), ('been', 'VERB'), ('held', 'VERB'), ('in', 'ADP'), ('europe', 'NOUN'), ('.', '.'), ('show', 'NOUN'), ('me', 'PRON'), ('the', 'DET'), ('cheapest', 'ADJ'), ('round', 'NOUN'), ('trips', 'NOUN'), ('from', 'ADP'), ('dallas', 'NOUN'), ('to', 'PRT'), ('atlanta', 'X'), ('i', 'NOUN'), ('would', 'VERB'), ('like', 'ADP'), ('to', 'PRT'), ('see', 'VERB'), ('flights', 'NOUN'), ('from', 'ADP'), ('denver', 'NOUN'), ('to', 'PRT'), ('philadelphia', 'NOUN'), ('.', '.'), ('show', 'NOUN'), ('me', 'PRON'), ('the', 'DET'), ('price', 'NOUN'), ('of', 'ADP'), ('the', 'DET'), ('flights', 'NOUN'), ('leaving', 'VERB'), ('atlanta', 'X'), ('at', 'ADP'), ('about', 'ADP'), ('3', 'NUM'), ('in', 'ADP'), ('the', 'DET'), ('afternoon', 'NOUN'), ('and', 'CONJ'), ('arriving', 'X'), ('in', 'ADP'), ('san', 'NOUN'), ('francisco', 'NOUN'), ('.', '.'), ('nasa', 'NOUN'), ('invited', 'VERB'), ('social', 'ADJ'), ('media', 'NOUN'), ('users', 'NOUN'), ('to', 'PRT'), ('experience', 'NOUN'), ('the', 'DET'), ('launch', 'NOUN'), ('of', 'ADP'), ('icesat-2', 'NUM'), ('satellite', 'NOUN'), ('.', '.')]\n",
      "Time taken for execution:  89.1931529045105\n"
     ]
    }
   ],
   "source": [
    "#test ngram on test set\n",
    "test_testing(modified_Viterbi,'ngram_Tagger')"
   ]
  },
  {
   "cell_type": "markdown",
   "metadata": {},
   "source": [
    "As seen from the above run most of the words are also correctly tagged in the test set.\n",
    "\n",
    "e.g: \n",
    "    \n",
    "    arriving - correctly tagged as VERB (earlier tagged as 'X' by Vanilla)\n",
    "    contested - correctly tagged as VERB (earlier tagged as 'X' by Vanilla)\n",
    "    dallas - correctly tagged as NOUN (earlier tagged as 'X' by Vanilla)\n",
    "    \n",
    "As you can see android is tagged as 'X' which seems to be good even in this context since although a NOUN it is more like a foriegn word/abbrevation here in this context.\n",
    "\n",
    "So seems like this ngram approach works way better than all the other methods.\n",
    "\n",
    "Also sort of ngram is amalgamation of all the methods discussed above. It take into considertaion of all pros of all the basic methods defined above and hence it works most accurately."
   ]
  },
  {
   "cell_type": "markdown",
   "metadata": {},
   "source": [
    "# Evaluation and Observation"
   ]
  },
  {
   "cell_type": "markdown",
   "metadata": {},
   "source": [
    "Now lets evaluate all the methods dicussed above.\n",
    "\n",
    "For the sake of story formation lets plot few graphs and check."
   ]
  },
  {
   "cell_type": "code",
   "execution_count": 34,
   "metadata": {},
   "outputs": [],
   "source": [
    "#Make a dataframe of all the methods and accuracies noted earlier\n",
    "method_accuracy = pd.DataFrame(list(map(list, zip(method_list,accuracy_list))), columns = ['method','accuracy'])"
   ]
  },
  {
   "cell_type": "code",
   "execution_count": 35,
   "metadata": {},
   "outputs": [
    {
     "data": {
      "text/html": [
       "<div>\n",
       "<style scoped>\n",
       "    .dataframe tbody tr th:only-of-type {\n",
       "        vertical-align: middle;\n",
       "    }\n",
       "\n",
       "    .dataframe tbody tr th {\n",
       "        vertical-align: top;\n",
       "    }\n",
       "\n",
       "    .dataframe thead th {\n",
       "        text-align: right;\n",
       "    }\n",
       "</style>\n",
       "<table border=\"1\" class=\"dataframe\">\n",
       "  <thead>\n",
       "    <tr style=\"text-align: right;\">\n",
       "      <th></th>\n",
       "      <th>method</th>\n",
       "      <th>accuracy</th>\n",
       "    </tr>\n",
       "  </thead>\n",
       "  <tbody>\n",
       "    <tr>\n",
       "      <th>0</th>\n",
       "      <td>Vanilla</td>\n",
       "      <td>87</td>\n",
       "    </tr>\n",
       "    <tr>\n",
       "      <th>1</th>\n",
       "      <td>laplace_smoothing</td>\n",
       "      <td>87</td>\n",
       "    </tr>\n",
       "    <tr>\n",
       "      <th>2</th>\n",
       "      <td>frequency_based_tagging</td>\n",
       "      <td>88</td>\n",
       "    </tr>\n",
       "    <tr>\n",
       "      <th>3</th>\n",
       "      <td>rule_tagger</td>\n",
       "      <td>92</td>\n",
       "    </tr>\n",
       "    <tr>\n",
       "      <th>4</th>\n",
       "      <td>ngram_Tagger</td>\n",
       "      <td>93</td>\n",
       "    </tr>\n",
       "  </tbody>\n",
       "</table>\n",
       "</div>"
      ],
      "text/plain": [
       "                    method  accuracy\n",
       "0                  Vanilla        87\n",
       "1        laplace_smoothing        87\n",
       "2  frequency_based_tagging        88\n",
       "3              rule_tagger        92\n",
       "4             ngram_Tagger        93"
      ]
     },
     "execution_count": 35,
     "metadata": {},
     "output_type": "execute_result"
    }
   ],
   "source": [
    "#Check the details\n",
    "method_accuracy"
   ]
  },
  {
   "cell_type": "code",
   "execution_count": 36,
   "metadata": {},
   "outputs": [
    {
     "data": {
      "image/png": "[encoded data removed]",
      "text/plain": [
       "<Figure size 720x360 with 1 Axes>"
      ]
     },
     "metadata": {
      "needs_background": "light"
     },
     "output_type": "display_data"
    }
   ],
   "source": [
    "#Plot and check the method accuracies\n",
    "plt.figure(figsize=(10,5))\n",
    "plt.grid(color='g', linestyle='--', linewidth=1)\n",
    "ax = sns.lineplot(x=\"method\", y=\"accuracy\", data=method_accuracy,color='red')\n",
    "ax.axes.set_title(\"Methods v/s Accuracy\",fontsize=20);\n",
    "ax.set_xlabel(\"Methods for handling unknown words\",fontsize=10);\n",
    "ax.set_ylabel(\"Accuracy\",fontsize=10);"
   ]
  },
  {
   "cell_type": "markdown",
   "metadata": {},
   "source": [
    "As seen from the above table ngram tagger has high accuracy of 93%"
   ]
  },
  {
   "cell_type": "code",
   "execution_count": 37,
   "metadata": {},
   "outputs": [
    {
     "data": {
      "image/png": "[encoded data removed]",
      "text/plain": [
       "<Figure size 864x360 with 1 Axes>"
      ]
     },
     "metadata": {
      "needs_background": "light"
     },
     "output_type": "display_data"
    }
   ],
   "source": [
    "#Plot and check the methods accuracies\n",
    "plt.figure(figsize=(12,5))\n",
    "plt.grid(color='g', linestyle='--', linewidth=1)\n",
    "ax=sns.barplot(x=\"method\", y=\"accuracy\", data=method_accuracy,palette='deep')\n",
    "ax.axes.set_title(\"Methods v/s Accuracy\",fontsize=20);\n",
    "ax.set_xlabel(\"Methods for handling unknown words\",fontsize=10);\n",
    "ax.set_ylabel(\"Accuracy\",fontsize=10);"
   ]
  },
  {
   "cell_type": "markdown",
   "metadata": {},
   "source": [
    "From the aboe 2 plots its clear that Vanilla Viterbi and Laplace  have lowest accuracy of 87% while ngram tagger has the highest accuracy of 93%."
   ]
  },
  {
   "cell_type": "markdown",
   "metadata": {},
   "source": [
    "# Conclusion"
   ]
  },
  {
   "cell_type": "markdown",
   "metadata": {},
   "source": [
    "For our use case ngram Tagger which is a combination of Rule Based Tagger, Unigram Tagger, Bigram Tagger and Trigram Tagger can be used for Tagging the unknown words in dataset and can be used in combination with Viterbi Heuristics to improve the efficiency of tagging the unknown words thereby improving the overall accuracy of the Viterbi Algorithm."
   ]
  },
  {
   "cell_type": "code",
   "execution_count": null,
   "metadata": {},
   "outputs": [],
   "source": []
  }
 ],
 "metadata": {
  "kernelspec": {
   "display_name": "Python 3",
   "language": "python",
   "name": "python3"
  },
  "language_info": {
   "codemirror_mode": {
    "name": "ipython",
    "version": 3
   },
   "file_extension": ".py",
   "mimetype": "text/x-python",
   "name": "python",
   "nbconvert_exporter": "python",
   "pygments_lexer": "ipython3",
   "version": "3.6.7"
  }
 },
 "nbformat": 4,
 "nbformat_minor": 2
}
